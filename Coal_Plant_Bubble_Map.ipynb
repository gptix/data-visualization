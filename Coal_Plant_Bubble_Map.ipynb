{
  "nbformat": 4,
  "nbformat_minor": 0,
  "metadata": {
    "colab": {
      "name": "Coal Plant Bubble Map.ipynb",
      "provenance": [],
      "collapsed_sections": [],
      "include_colab_link": true
    },
    "kernelspec": {
      "name": "python3",
      "display_name": "Python 3"
    }
  },
  "cells": [
    {
      "cell_type": "markdown",
      "metadata": {
        "id": "view-in-github",
        "colab_type": "text"
      },
      "source": [
        "<a href=\"https://colab.research.google.com/github/gptix/data-visualization/blob/master/Coal_Plant_Bubble_Map.ipynb\" target=\"_parent\"><img src=\"https://colab.research.google.com/assets/colab-badge.svg\" alt=\"Open In Colab\"/></a>"
      ]
    },
    {
      "cell_type": "markdown",
      "metadata": {
        "id": "d-Phg4QIVamq",
        "colab_type": "text"
      },
      "source": [
        "# Visualization of intensity of use of coal to generate power in the United States in 2018.\n",
        "\n",
        "*Last run from scratch, successfully, at 13:33 EST, 22 Nov 2019*\n",
        "\n",
        "## Data Sources\n",
        "\n",
        "U.S. Energy Information Administration\n",
        "\n",
        "https://www.eia.gov/\n",
        "\n",
        "\n",
        "\n",
        "**Form EIA-923**\n",
        "\n",
        "\"The survey Form EIA-923 collects detailed electric power data -- monthly and annually -- on electricity generation, fuel consumption, fossil fuel stocks, and receipts at the power plant and prime mover level.\"\n",
        "\n",
        "https://www.eia.gov/electricity/data/eia923/\n",
        "\n",
        "\n",
        "\n",
        "**Form EIA-860**\n",
        "\n",
        "\"The survey Form EIA-860 collects generator-level specific information about existing and planned generators and associated environmental equipment at electric power plants with 1 megawatt or greater of combined nameplate capacity.\"\n",
        "\n",
        "https://www.eia.gov/electricity/data/eia860/\n",
        "\n",
        "## Software\n",
        "\n",
        "Data Manipulation: Pandas\n",
        "\n",
        "Vizualization: Plotly\n",
        "\n",
        "Notebook Creation and coding: Google Colab"
      ]
    },
    {
      "cell_type": "markdown",
      "metadata": {
        "id": "9RT7OQ1fpJY_",
        "colab_type": "text"
      },
      "source": [
        "## Import great code."
      ]
    },
    {
      "cell_type": "code",
      "metadata": {
        "id": "1Kzu2gDrpHx9",
        "colab_type": "code",
        "colab": {}
      },
      "source": [
        "import pandas as pd\n",
        "import plotly.graph_objects as go"
      ],
      "execution_count": 0,
      "outputs": []
    },
    {
      "cell_type": "markdown",
      "metadata": {
        "id": "cZ9jBaXJnQN5",
        "colab_type": "text"
      },
      "source": [
        "## Ingest raw data."
      ]
    },
    {
      "cell_type": "code",
      "metadata": {
        "id": "kV0kRmm2lvUO",
        "colab_type": "code",
        "colab": {}
      },
      "source": [
        "url_base = \"https://raw.githubusercontent.com/gptix/data-visualization/master/\"\n",
        "\n",
        "# set filenames\n",
        "# Detailed data, including fuel type and annual production.\n",
        "detail_filename = \"EIA923_Schedules_2_3_4_5_M_12_2018_Final_Revision.csv\"\n",
        "\n",
        "# Plant data, including latitude and longitude.\n",
        "plants_filename = \"2___Plant_Y2018.csv\"\n",
        "\n",
        "detail_df = pd.read_csv(url_base + detail_filename)\n",
        "plants_df = pd.read_csv(url_base + plants_filename, skiprows=1)\n",
        "\n",
        "# detail_df.head(1)"
      ],
      "execution_count": 0,
      "outputs": []
    },
    {
      "cell_type": "markdown",
      "metadata": {
        "id": "8aMtFXXLnYRG",
        "colab_type": "text"
      },
      "source": [
        "## Shape data, including removing or altering \"NaNs\""
      ]
    },
    {
      "cell_type": "code",
      "metadata": {
        "id": "KYvvgQ54LF5b",
        "colab_type": "code",
        "colab": {}
      },
      "source": [
        "# extract needed data\n",
        "# filter for rows related to use of coal as fuel.\n",
        "fuel_type = 'COL'\n",
        "detail_df = detail_df[detail_df.AER_Fuel_Type_Code.isin([fuel_type])]\n",
        "# detail_df.shape\n",
        "\n",
        "# Re-shape detail_df to contain only columns needed.\n",
        "detail_columns = detail_df.columns\n",
        "detail_columns_needed = ['Plant_Id', 'Reported_Prime_Mover', 'AER_Fuel_Type_Code', 'Total_Fuel_Consumption_MMBtu', 'Net_Generation_(Megawatthours)']\n",
        "detail_columns_to_drop = list(set(detail_columns) - set(detail_columns_needed))\n",
        "detail_df = detail_df.drop(columns=detail_columns_to_drop)\n",
        "\n",
        "detail_df.columns\n",
        "detail_df.head(1)\n",
        "\n",
        "# create df that summarizes fuel use and power generation by Plant.\n",
        "detail_summed_df = detail_df.groupby('Plant_Id').sum()\n",
        "detail_summed_df.head(2)\n",
        "detail_summed_df.Total_Fuel_Consumption_MMBtu\n",
        "detail_summed_df.columns\n",
        "detail_summed_nonzero_df = detail_summed_df[detail_summed_df['Net_Generation_(Megawatthours)'] > 0.1]\n",
        "\n",
        "# detail_summed_nonzero_df.shape\n",
        "# detail_summed_nonzero_df.head()"
      ],
      "execution_count": 0,
      "outputs": []
    },
    {
      "cell_type": "code",
      "metadata": {
        "id": "RyRWl3VKV0gZ",
        "colab_type": "code",
        "colab": {}
      },
      "source": [
        "# check for negatives, which break plotly figure.\n",
        "# detail_summed_nonzero_df[detail_summed_nonzero_df['Net_Generation_(Megawatthours)'] < 0]"
      ],
      "execution_count": 0,
      "outputs": []
    },
    {
      "cell_type": "code",
      "metadata": {
        "id": "E_5df_xzQG_J",
        "colab_type": "code",
        "colab": {}
      },
      "source": [
        "# Re-shape detail_df to contain only columns needed.\n",
        "plants_columns = plants_df.columns\n",
        "plants_columns_needed = ['Plant Code', 'Plant Name', 'State', 'Latitude', 'Longitude']\n",
        "plants_columns_to_drop = list(set(plants_columns) - set(plants_columns_needed))\n",
        "plants_df = plants_df.drop(columns=plants_columns_to_drop)\n",
        "# plants_columns\n",
        "# Rename column so that join will work.\n",
        "plants_df = plants_df.rename(columns={\"Plant Code\" : \"Plant_Id\"})\n",
        "\n",
        "\n",
        "# plants_df.head(1)"
      ],
      "execution_count": 0,
      "outputs": []
    },
    {
      "cell_type": "markdown",
      "metadata": {
        "id": "f24znYD4nkt-",
        "colab_type": "text"
      },
      "source": [
        "## Join tables to generate a dataframe for straightforward generation of map data."
      ]
    },
    {
      "cell_type": "code",
      "metadata": {
        "id": "2veQu84tayQi",
        "colab_type": "code",
        "colab": {}
      },
      "source": [
        "# Make a df of info for map.\n",
        "map_data_df = plants_df.join(detail_summed_nonzero_df, how='right', on='Plant_Id')\n",
        "\n",
        "# Replace NaN values with 0\n",
        "map_data_df['Total_Fuel_Consumption_MMBtu'].fillna(0, inplace=True)\n",
        "map_data_df['Net_Generation_(Megawatthours)'].fillna(0, inplace=True)\n",
        "\n",
        "# RENAME COLUMN\n",
        "map_data_df.rename(columns={\"Net_Generation_(Megawatthours)\": \"MWh\"}, inplace=True)"
      ],
      "execution_count": 0,
      "outputs": []
    },
    {
      "cell_type": "markdown",
      "metadata": {
        "id": "KxH9BVBmnwCG",
        "colab_type": "text"
      },
      "source": [
        "## Create and populate a data object for the map visualization."
      ]
    },
    {
      "cell_type": "code",
      "metadata": {
        "id": "uFRt2biPINQ4",
        "colab_type": "code",
        "colab": {}
      },
      "source": [
        "# set colors to be used for bubbles.\n",
        "marker_color = 'rgb(1,   1, 10)'\n",
        "\n",
        "# Set scaling factor for size of bubbles.\n",
        "scale = 5e4\n",
        "\n",
        "# Set text data for each point to be displayed on hover\n",
        "map_data_df['text'] = map_data_df['Plant Name'] + '<br>MWh ' + map_data_df['MWh'].astype(str)"
      ],
      "execution_count": 0,
      "outputs": []
    },
    {
      "cell_type": "code",
      "metadata": {
        "id": "MksNteScLtup",
        "colab_type": "code",
        "outputId": "214555ee-1b1c-4075-c4d0-084a7d717268",
        "colab": {
          "base_uri": "https://localhost:8080/",
          "height": 542
        }
      },
      "source": [
        "# Instantiate figure.\n",
        "fig = go.Figure()\n",
        "\n",
        "\n",
        "# Add data for bubbles to figure object\n",
        "fig.add_trace(go.Scattergeo(\n",
        "        \n",
        "    # control type of figure\n",
        "    locationmode = 'USA-states',\n",
        "\n",
        "    # lat, long used to control placement of bubble\n",
        "    lon = map_data_df['Longitude'],\n",
        "    lat = map_data_df['Latitude'],\n",
        "        \n",
        "    # metadata to be used for each bubble (when hovering)\n",
        "    text = map_data_df['text'],\n",
        "\n",
        "    marker = dict(\n",
        "        size = (map_data_df['MWh'] / scale),\n",
        "        color = marker_color,\n",
        "        line_color='rgb(40,40,40)',\n",
        "        line_width=0.5,\n",
        "        sizemode = 'area'\n",
        "        ),\n",
        "        name = 'Coal Burning Plants'\n",
        "    ))\n",
        "\n",
        "# Configure overall map\n",
        "fig.update_layout(\n",
        "        title_text = 'Coal Plants Spewing Pollution in U.S. - 2018 - Scaled by MWh',\n",
        "        showlegend = True,\n",
        "        geo = dict(\n",
        "            scope = 'usa',\n",
        "            landcolor = 'lightgreen',\n",
        "        )\n",
        "    )\n",
        "\n",
        "# display of figure is automatic at the end of a code cell."
      ],
      "execution_count": 17,
      "outputs": [
        {
          "output_type": "display_data",
          "data": {
            "text/html": [
              "<html>\n",
              "<head><meta charset=\"utf-8\" /></head>\n",
              "<body>\n",
              "    <div>\n",
              "            <script src=\"https://cdnjs.cloudflare.com/ajax/libs/mathjax/2.7.5/MathJax.js?config=TeX-AMS-MML_SVG\"></script><script type=\"text/javascript\">if (window.MathJax) {MathJax.Hub.Config({SVG: {font: \"STIX-Web\"}});}</script>\n",
              "                <script type=\"text/javascript\">window.PlotlyConfig = {MathJaxConfig: 'local'};</script>\n",
              "        <script src=\"https://cdn.plot.ly/plotly-latest.min.js\"></script>    \n",
              "            <div id=\"8662d9d0-a4da-4652-8141-25765aa1b6b9\" class=\"plotly-graph-div\" style=\"height:525px; width:100%;\"></div>\n",
              "            <script type=\"text/javascript\">\n",
              "                \n",
              "                    window.PLOTLYENV=window.PLOTLYENV || {};\n",
              "                    \n",
              "                if (document.getElementById(\"8662d9d0-a4da-4652-8141-25765aa1b6b9\")) {\n",
              "                    Plotly.newPlot(\n",
              "                        '8662d9d0-a4da-4652-8141-25765aa1b6b9',\n",
              "                        [{\"lat\": [\"31.006900\", \"33.644344\", \"33.244211\", \"32.030556\", \"31.488019\", \"40.854765\", \"40.580872\", \"64.847743\", \"35.415900\", \"37.930800\", \"34.939400\", \"34.082500\", \"33.371506\", \"29.733056\", \"32.060300\", \"36.190278\", \"31.421900\", \"38.208100\", \"38.824444\", \"40.485600\", \"38.238300\", \"28.482200\", \"41.170600\", \"38.585700\", \"39.180000\", \"28.965600\", \"30.566100\", \"27.794400\", \"29.759200\", \"30.417200\", \"28.080100\", \"34.125600\", \"34.252800\", \"40.595800\", \"39.058600\", \"39.590556\", \"40.540800\", \"42.383300\", \"41.633400\", \"37.209400\", \"38.205000\", \"40.279700\", \"41.302800\", \"39.754803\", \"37.619747\", \"38.737800\", \"38.528100\", \"41.645000\", \"41.720800\", \"39.924200\", \"38.806700\", \"38.263600\", \"37.911100\", \"39.802800\", \"43.335900\", \"41.944039\", \"41.180000\", \"42.299794\", \"40.741200\", \"42.526700\", \"41.391700\", \"38.348100\", \"39.007200\", \"39.053900\", \"37.788310\", \"38.749700\", \"38.052500\", \"37.794200\", \"37.260800\", \"37.151700\", \"37.646900\", \"36.998100\", \"30.284400\", \"39.323604\", \"39.178100\", \"38.544400\", \"39.209700\", \"38.359200\", \"43.644996\", \"42.910296\", \"41.890600\", \"42.273900\", \"42.764200\", \"42.121700\", \"46.578900\", \"43.070600\", \"42.718390\", \"42.692222\", \"46.530598\", \"47.261100\", \"46.735331\", \"45.030000\", \"46.290641\", \"47.429400\", \"47.522428\", \"45.121705\", \"37.361315\", \"39.130600\", \"38.311400\", \"39.178319\", \"38.562244\", \"38.915479\", \"36.514700\", \"39.552200\", \"41.428100\", \"40.558900\", \"41.329090\", \"43.141100\", \"43.097800\", \"39.290800\", \"36.690000\", \"36.800600\", \"42.602800\", \"35.473100\", \"36.483300\", \"35.189700\", \"35.220000\", \"35.597500\", \"46.866900\", \"47.280769\", \"47.065854\", \"40.252200\", \"39.112800\", \"41.504453\", \"40.184200\", \"38.636100\", \"40.531700\", \"38.914400\", \"40.520066\", \"40.850964\", \"41.726500\", \"35.761350\", \"36.431700\", \"40.384200\", \"40.512825\", \"40.660400\", \"40.096111\", \"41.071400\", \"33.826400\", \"33.015800\", \"35.074087\", \"36.021100\", \"36.390300\", \"36.315600\", \"35.899200\", \"29.482800\", \"31.820600\", \"37.382200\", \"37.214400\", \"46.755938\", \"38.473100\", \"39.710833\", \"39.384167\", \"39.829700\", \"39.200800\", \"46.587222\", \"42.845700\", \"43.715142\", \"44.540000\", \"44.860600\", \"44.082000\", \"43.558900\", \"42.837800\", \"41.758100\", \"44.303583\", \"36.904700\", \"33.631900\", \"39.366667\", \"34.422800\", \"40.466300\", \"38.936100\", \"38.903600\", \"38.867500\", \"40.462700\", \"47.377743\", \"38.690300\", \"42.775600\", \"38.700000\", \"33.413420\", \"30.726100\", \"31.218600\", \"39.168100\", \"39.447200\", \"39.286453\", \"38.584700\", \"30.532200\", \"45.883100\", \"41.080800\", \"43.358889\", \"41.216400\", \"47.678500\", \"45.380800\", \"40.634800\", \"36.453070\", \"40.621400\", \"45.303652\", \"44.290128\", \"45.693182\", \"38.372222\", \"32.356287\", \"30.619937\", \"37.905300\", \"36.256100\", \"33.055220\", \"32.260600\", \"38.131248\", \"39.174700\", \"37.925600\", \"42.538100\", \"34.578900\", \"28.712800\", \"29.917200\", \"31.180300\", \"29.308056\", \"28.704400\", \"31.395000\", \"35.298160\", \"34.186494\", \"37.151706\", \"42.108889\", \"39.069400\", \"40.221700\", \"33.331840\", \"36.527800\", \"41.096100\", \"33.060600\", \"38.979400\", \"63.854200\", \"47.370542\", \"39.509731\", \"37.646100\", \"35.678442\", \"30.565871\", \"41.318100\", \"37.915000\", \"40.860905\", \"36.879100\", \"34.015800\", \"37.449700\", \"31.091925\", \"29.309722\", \"33.364400\", \"36.869000\", \"27.728600\", \"42.300600\", \"44.285600\", \"32.900000\", \"40.086400\", \"32.460700\", \"43.486400\", \"36.281100\", \"41.737800\", \"39.379200\", \"38.934700\", \"38.633451\", \"47.221447\", \"34.318600\", \"40.881317\", \"40.538300\", \"37.539200\", \"43.198900\", \"39.792800\", \"30.681823\", \"45.804400\", \"44.430000\", \"44.493600\", \"32.331274\", \"35.732200\", \"37.293900\", \"33.944384\", \"36.435000\", \"36.037318\", \"34.252800\", \"44.395300\", \"44.551300\", \"42.532800\", \"39.693494\", \"35.193100\", \"21.303419\", \"39.595171\", \"35.765000\", \"47.234825\", \"32.226800\", \"47.286573\", \"41.820600\", \"41.624438\", \"40.866463\", \"44.187066\", \"41.922100\", \"39.870074\", \"39.849190\", \"42.513608\", \"32.143989\", \"46.123600\", \"40.417200\", \"35.535000\", \"45.795600\", \"36.476900\", \"39.473600\", \"35.047100\", \"45.069929\", \"64.825601\", \"41.709400\", \"64.671410\", \"39.870935\", \"43.684857\", \"36.521900\", \"44.788100\", \"45.935600\", \"64.854171\", \"34.149700\", \"30.141984\", \"37.291400\", \"44.217299\", \"37.799722\", \"45.639400\", \"38.946100\", \"27.038900\", \"36.600000\", \"30.568100\", \"37.455600\", \"33.360185\", \"44.282600\", \"31.166000\", \"33.641700\", \"42.027500\", \"35.906900\", \"38.266700\", \"41.593300\", \"33.328259\", \"44.796405\", \"41.777500\", \"36.033761\", \"31.969800\", \"41.657200\", \"40.105169\", \"46.409400\", \"33.376100\", \"44.285800\", \"45.757800\", \"38.279167\", \"42.849200\", \"40.746100\", \"44.291900\", \"35.664400\", \"33.649722\", \"44.291900\", \"44.388889\", \"31.474378\", \"39.707893\", \"37.231900\", \"46.926423\", \"36.916389\", \"41.416442\", \"47.717222\", \"41.621667\", \"34.385278\", \"37.711944\", \"41.858870\", \"39.519989\", \"43.741111\", \"40.389167\", \"44.980833\", \"40.263000\", \"45.765346\", null], \"locationmode\": \"USA-states\", \"lon\": [\"-88.010300\", \"-87.196486\", \"-86.458056\", \"-93.569167\", \"-87.910747\", \"-98.348222\", \"-98.312437\", \"-147.735063\", \"-108.082000\", \"-100.972500\", \"-110.303300\", \"-99.175300\", \"-80.113235\", \"-81.632778\", \"-109.893100\", \"-95.289400\", \"-96.252500\", \"-104.574700\", \"-104.833333\", \"-107.185000\", \"-108.506900\", \"-81.167800\", \"-73.184400\", \"-75.234100\", \"-76.538900\", \"-82.697700\", \"-87.224400\", \"-82.403600\", \"-82.387800\", \"-81.552500\", \"-81.922900\", \"-84.922200\", \"-85.345600\", \"-89.663100\", \"-89.403100\", \"-89.496389\", \"-89.678600\", \"-87.813300\", \"-88.062900\", \"-88.858889\", \"-89.854400\", \"-90.080000\", \"-89.315000\", \"-89.602389\", \"-88.953114\", \"-85.420600\", \"-87.252500\", \"-87.122500\", \"-86.908600\", \"-87.424400\", \"-87.247200\", \"-85.838100\", \"-87.327500\", \"-84.895300\", \"-91.167500\", \"-91.639167\", \"-95.840800\", \"-96.361707\", \"-91.116667\", \"-92.439400\", \"-91.056900\", \"-94.645600\", \"-95.269167\", \"-95.568889\", \"-84.712570\", \"-85.035000\", \"-85.910300\", \"-87.060800\", \"-86.978300\", \"-88.775000\", \"-87.502800\", \"-84.591900\", \"-93.291100\", \"-76.365119\", \"-76.526800\", \"-76.686100\", \"-77.464400\", \"-76.976700\", \"-83.840074\", \"-86.200740\", \"-83.346400\", \"-83.111900\", \"-82.471900\", \"-83.180800\", \"-87.395000\", \"-86.235000\", \"-84.558080\", \"-84.657222\", \"-87.392206\", \"-93.652800\", \"-92.151711\", \"-92.778600\", \"-96.043252\", \"-92.935000\", \"-92.540951\", \"-95.053236\", \"-94.589260\", \"-94.477800\", \"-93.934800\", \"-94.184445\", \"-90.837686\", \"-90.290247\", \"-89.561700\", \"-92.638100\", \"-96.462300\", \"-96.784700\", \"-95.944660\", \"-71.469200\", \"-70.784200\", \"-74.636400\", \"-108.481400\", \"-108.438600\", \"-76.633600\", \"-82.541700\", \"-79.073100\", \"-81.012200\", \"-81.759400\", \"-80.965800\", \"-100.883600\", \"-101.321213\", \"-101.213093\", \"-80.648600\", \"-84.803600\", \"-82.054619\", \"-81.881100\", \"-83.693900\", \"-80.631900\", \"-82.128900\", \"-81.468150\", \"-81.765764\", \"-81.254000\", \"-95.287320\", \"-95.700800\", \"-79.061100\", \"-79.196107\", \"-79.341100\", \"-76.696200\", \"-76.667200\", \"-80.622800\", \"-79.929700\", \"-90.148680\", \"-84.156700\", \"-87.653900\", \"-86.400600\", \"-84.519400\", \"-95.631100\", \"-96.054400\", \"-77.383300\", \"-76.461100\", \"-122.859764\", \"-81.823300\", \"-79.927500\", \"-80.332500\", \"-80.815300\", \"-79.263600\", \"-90.901700\", \"-87.829400\", \"-87.705863\", \"-88.008600\", \"-89.655300\", \"-87.655800\", \"-91.232500\", \"-105.776900\", \"-110.598300\", \"-91.912647\", \"-111.388600\", \"-87.059700\", \"-81.294444\", \"-92.140600\", \"-89.984100\", \"-88.278100\", \"-84.851400\", \"-84.228900\", \"-107.591200\", \"-101.157058\", \"-83.480300\", \"-82.495000\", \"-83.818100\", \"-85.032329\", \"-91.369200\", \"-89.394000\", \"-94.697500\", \"-94.980000\", \"-96.117231\", \"-85.411700\", \"-88.555300\", \"-106.614000\", \"-101.140800\", \"-78.604722\", \"-87.026100\", \"-104.156650\", \"-93.893100\", \"-80.415900\", \"-97.052790\", \"-95.776400\", \"-96.510067\", \"-105.381482\", \"-119.808819\", \"-87.765833\", \"-81.168347\", \"-96.081846\", \"-87.715000\", \"-94.524100\", \"-94.839993\", \"-94.570600\", \"-90.263157\", \"-111.028900\", \"-87.037200\", \"-87.903300\", \"-109.270800\", \"-97.214167\", \"-96.750600\", \"-96.486600\", \"-98.322800\", \"-98.477500\", \"-92.716667\", \"-101.747187\", \"-102.569990\", \"-93.388040\", \"-104.882500\", \"-87.510800\", \"-103.680300\", \"-79.357236\", \"-78.891700\", \"-92.555833\", \"-83.807500\", \"-81.934400\", \"-148.950000\", \"-101.835660\", \"-112.580180\", \"-87.500000\", \"-91.408761\", \"-97.064032\", \"-91.093100\", \"-87.332800\", \"-105.021207\", \"-89.620900\", \"-95.320600\", \"-87.080600\", \"-96.695030\", \"-98.320300\", \"-81.030000\", \"-78.704000\", \"-81.989700\", \"-96.361700\", \"-105.383300\", \"-79.966700\", \"-109.284400\", \"-94.485200\", \"-89.420300\", \"-80.060300\", \"-108.787500\", \"-111.078100\", \"-82.115800\", \"-104.705770\", \"-101.815722\", \"-109.163900\", \"-117.151605\", \"-79.790600\", \"-76.805300\", \"-77.631900\", \"-75.406667\", \"-81.455413\", \"-87.089100\", \"-89.780000\", \"-88.030300\", \"-81.201496\", \"-95.293900\", \"-77.269700\", \"-78.011824\", \"-78.961900\", \"-77.753345\", \"-85.327500\", \"-89.826000\", \"-70.541400\", \"-114.432800\", \"-75.485811\", \"-94.645800\", \"-158.106528\", \"-78.745333\", \"-117.383300\", \"-93.537169\", \"-88.025200\", \"-91.260531\", \"-90.209700\", \"-93.584515\", \"-96.614486\", \"-93.992420\", \"-91.687500\", \"-88.890756\", \"-88.931944\", \"-92.459122\", \"-81.146550\", \"-122.972800\", \"-86.912200\", \"-82.841100\", \"-87.955600\", \"-77.641400\", \"-79.056900\", \"-88.266100\", \"-83.408182\", \"-147.648627\", \"-86.236700\", \"-147.075988\", \"-76.868117\", \"-70.353152\", \"-82.543100\", \"-89.691700\", \"-90.447200\", \"-147.822075\", \"-79.560600\", \"-85.621103\", \"-77.281600\", \"-86.289050\", \"-79.994700\", \"-89.420500\", \"-92.332800\", \"-80.512500\", \"-78.530000\", \"-97.061400\", \"-77.430800\", \"-79.302573\", \"-88.253400\", \"-85.095100\", \"-94.108300\", \"-93.639400\", \"-79.061700\", \"-77.314700\", \"-109.754200\", \"-81.953078\", \"-95.179787\", \"-87.823300\", \"-80.227404\", \"-87.480600\", \"-91.540000\", \"-88.241528\", \"-86.644300\", \"-89.218300\", \"-105.383300\", \"-107.600000\", \"-89.666944\", \"-87.833600\", \"-116.529700\", \"-105.381100\", \"-89.948900\", \"-93.811944\", \"-105.380600\", \"-105.460833\", \"-96.957149\", \"-79.958974\", \"-80.421100\", \"-98.499713\", \"-82.338055\", \"-97.286328\", \"-104.135556\", \"-109.811944\", \"-80.067778\", \"-89.215000\", \"-103.634380\", \"-84.406153\", \"-83.447222\", \"-91.394167\", \"-93.249722\", \"-103.806900\", \"-108.499232\", null], \"marker\": {\"color\": \"rgb(1,   1, 10)\", \"line\": {\"color\": \"rgb(40,40,40)\", \"width\": 0.5}, \"size\": [72.68594, 109.81292, 57.0373, 28.4169, 24.91156, 10.71904, 27.52146, 3.55638, 25.60022, 29.24502, 72.24602, 66.31138, 190.4673, 153.76426, 12.466, 7.3782, 189.92506, 190.99134, 18.31394, 46.42026, 1.2218, 89.0302, 6.59402, 5.46776, 94.107, 168.41286, 62.52018, 58.22016, 8.69044, 17.1574, 30.53834, 271.65836, 3.49204, 65.66334, 105.97034, 95.8573, 90.13948, 32.29146, 19.88354, 96.1714, 144.01772, 48.83354, 34.42434, 46.87482, 34.17342, 127.20616, 181.696, 3.17246, 40.38846, 121.55436, 55.66656, 5.28228, 37.64044, 0.8184, 17.63908, 1.78028, 200.11982, 45.27964, 23.72716, 0.00212, 17.62864, 109.6565, 56.10024, 5.44774, 40.62574, 225.08448, 172.15232, 44.02866, 76.45824, 125.5274, 12.84624, 11.18704, 54.5669, 4.17418, 8.1444, 16.22456, 4.59594, 50.06944, 45.69342, 152.95092, 308.94446, 11.14598, 88.77472, 21.31948, 28.0397, 3.41278, 7.65344, 14.55946, 2.50514, 145.30322, 0.0151, 53.84928, 10.44446, 0.92666, 0.87228, 0.00648, 16.75754, 55.26754, 8.28796, 19.28552, 315.10432, 113.25656, 157.97148, 155.88442, 9.09834, 18.0587, 34.81982, 10.96344, 1.7639, 0.27474, 149.3153, 93.11512, 1.86492, 24.6466, 117.7579, 16.2857, 110.47718, 169.33028, 9.94606, 67.08988, 97.83578, 200.00924, 107.88016, 21.12226, 82.2094, 41.2935, 94.72784, 115.85818, 1.15056, 0.2918, 0.06092, 76.12578, 52.4389, 228.47864, 102.08688, 248.32544, 20.00336, 52.05148, 75.79652, 58.91816, 7.79152, 27.80788, 207.40776, 102.54638, 60.83684, 297.91414, 16.32832, 37.58684, 7.2542, 107.0057, 258.49638, 119.91164, 264.63306, 109.46206, 110.26206, 0.0159, 94.66302, 65.59886, 9.26018, 91.53872, 0.3669, 33.595, 95.87248, 94.63432, 37.7572, 259.88716, 360.00482, 140.01116, 164.7795, 48.46722, 64.22042, 55.62732, 161.12322, 146.49264, 182.50928, 29.1648, 151.61032, 153.82424, 55.91204, 80.13394, 2.36416, 19.36524, 155.87502, 189.66494, 159.98882, 46.60688, 252.83722, 176.68874, 11.72392, 134.16694, 4.68468, 249.25824, 60.81896, 88.65898, 181.72126, 46.78674, 45.00086, 25.63126, 351.94648, 0.45802, 15.65926, 47.71956, 53.2618, 108.97492, 280.8103, 155.20162, 165.6707, 237.54792, 35.34038, 71.82186, 76.92346, 206.83788, 243.0969, 91.88694, 50.13948, 72.61674, 95.08056, 75.6242, 50.29446, 213.45876, 117.29674, 65.42378, 31.1837, 29.65206, 74.58524, 308.13964, 113.78392, 3.39004, 128.52912, 169.63902, 60.96664, 193.52624, 2.13272, 97.20482, 86.24378, 36.04078, 35.91896, 32.76028, 45.04576, 49.06006, 143.98988, 29.65462, 58.14548, 14.5734, 61.41818, 12.84514, 3.31998, 73.03712, 91.54378, 132.72964, 159.57914, 219.14538, 101.66694, 319.52798, 22.5822, 61.209, 198.47142, 28.85092, 23.7828, 0.2968, 0.21886, 10.66942, 1.6022, 0.12602, 2.45312, 1.24718, 0.9738, 4.09502, 0.88354, 0.96722, 0.81382, 0.18164, 0.82592, 1.06158, 1.12568, 0.40676, 12.9216, 36.6778, 26.22406, 22.82808, 5.62656, 0.69028, 0.87552, 7.00652, 14.77182, 0.52984, 0.5907, 0.4422, 14.63528, 26.53558, 4.1642, 0.09196, 0.16266, 0.47202, 0.58966, 2.11868, 0.002, 0.6862, 1.19488, 0.01036, 0.69422, 1.80354, 0.1684, 1.35238, 1.45412, 0.29086, 12.93352, 0.94512, 0.06246, 0.71716, 0.25538, 0.35092, 0.10614, 8.53858, 3.2422, 0.39634, 0.20246, 0.13332, 1.14454, 2.82886, 0.7797, 0.02456, 1.61192, 1.90392, 0.9101, 1.13312, 0.77358, 10.83672, 3.5424, 0.0847, 0.29238, 4.26818, 0.02702, 0.00152, 0.26414, 0.45078, 0.64454, 56.62982, 12.76324, 2.9292, 230.2575, 157.8041, 20.85, 15.36922, 103.93418, 83.5102, 17.00758, 59.49702, 129.38474, 104.16504, 0.1247, 3.6942, 54.722, 6.45878, 0.10692, 4.44932, 0.0411, 0.17392, 0.42736, 0.11942, 0.00206, 0.2488, 6e-05, 0.23878, 0.09764, 28.58604], \"sizemode\": \"area\"}, \"name\": \"Coal Burning Plants\", \"text\": [\"Barry<br>MWh 3634297\", \"Gorgas<br>MWh 5490646\", \"E C Gaston<br>MWh 2851865\", \"Dolet Hills<br>MWh 1420845\", \"Charles R Lowman<br>MWh 1245578\", \"Platte<br>MWh 535952\", \"Whelan Energy Center<br>MWh 1376073\", \"Aurora Energy LLC Chena<br>MWh 177819\", \"Escalante<br>MWh 1280011\", \"Holcomb<br>MWh 1462251\", \"Cholla<br>MWh 3612301\", \"Oklaunion<br>MWh 3315569\", \"Cross<br>MWh 9523365\", \"Seminole (FL)<br>MWh 7688213\", \"Apache Station<br>MWh 623300\", \"GREC<br>MWh 368910\", \"Limestone<br>MWh 9496253\", \"Comanche (CO)<br>MWh 9549567\", \"Martin Drake<br>MWh 915697\", \"Hayden<br>MWh 2321013\", \"Nucla<br>MWh 61090\", \"Stanton Energy Center<br>MWh 4451510\", \"Bridgeport Station<br>MWh 329701\", \"Indian River Generating Station<br>MWh 273388\", \"Brandon Shores<br>MWh 4705350\", \"Crystal River<br>MWh 8420643\", \"Crist<br>MWh 3126009\", \"Big Bend<br>MWh 2911008\", \"Deerhaven Generating Station<br>MWh 434522\", \"Northside Generating Station<br>MWh 857870\", \"C D McIntosh Jr<br>MWh 1526917\", \"Bowen<br>MWh 13582918\", \"Hammond<br>MWh 174602\", \"E D Edwards<br>MWh 3283167\", \"Coffeen<br>MWh 5298517\", \"Kincaid Generation LLC<br>MWh 4792865\", \"Powerton<br>MWh 4506974\", \"Waukegan<br>MWh 1614573\", \"Will County<br>MWh 994177\", \"Joppa Steam<br>MWh 4808570\", \"Baldwin Energy Complex<br>MWh 7200886\", \"Havana<br>MWh 2441677\", \"Hennepin Power Station<br>MWh 1721217\", \"Dallman<br>MWh 2343741\", \"Marion<br>MWh 1708671\", \"Clifty Creek<br>MWh 6360308\", \"AES Petersburg<br>MWh 9084800\", \"Bailly<br>MWh 158623\", \"Michigan City<br>MWh 2019423\", \"Cayuga<br>MWh 6077718\", \"Edwardsport<br>MWh 2783328\", \"R Gallagher<br>MWh 264114\", \"F B Culley<br>MWh 1882022\", \"Whitewater Valley<br>MWh 40920\", \"Lansing<br>MWh 881954\", \"Prairie Creek<br>MWh 89014\", \"Walter Scott Jr Energy Center<br>MWh 10005991\", \"George Neal North<br>MWh 2263982\", \"Burlington (IA)<br>MWh 1186358\", \"Streeter Station<br>MWh 106\", \"Muscatine Plant #1<br>MWh 881432\", \"La Cygne<br>MWh 5482825\", \"Lawrence Energy Center<br>MWh 2805012\", \"Tecumseh Energy Center<br>MWh 272387\", \"E W Brown<br>MWh 2031287\", \"Ghent<br>MWh 11254224\", \"Mill Creek (KY)<br>MWh 8607616\", \"Elmer Smith<br>MWh 2201433\", \"Paradise<br>MWh 3822912\", \"Shawnee<br>MWh 6276370\", \"HMP&L Station Two Henderson<br>MWh 642312\", \"Cooper<br>MWh 559352\", \"R S Nelson<br>MWh 2728345\", \"CP Crane Power, LLC<br>MWh 208709\", \"Herbert A Wagner<br>MWh 407220\", \"Chalk Point LLC<br>MWh 811228\", \"Dickerson<br>MWh 229797\", \"Morgantown Generating Plant<br>MWh 2503472\", \"Dan E Karn<br>MWh 2284671\", \"J H Campbell<br>MWh 7647546\", \"Monroe (MI)<br>MWh 15447223\", \"River Rouge<br>MWh 557299\", \"St Clair<br>MWh 4438736\", \"Trenton Channel<br>MWh 1065974\", \"Presque Isle<br>MWh 1401985\", \"J B Sims<br>MWh 170639\", \"Eckert Station<br>MWh 382672\", \"Erickson Station<br>MWh 727973\", \"Shiras<br>MWh 125257\", \"Clay Boswell<br>MWh 7265161\", \"M L Hibbard<br>MWh 755\", \"Allen S King<br>MWh 2692464\", \"Hoot Lake<br>MWh 522223\", \"Hibbing<br>MWh 46333\", \"Virginia<br>MWh 43614\", \"Willmar<br>MWh 324\", \"Asbury<br>MWh 837877\", \"Hawthorn<br>MWh 2763377\", \"Montrose<br>MWh 414398\", \"Sibley<br>MWh 964276\", \"Labadie<br>MWh 15755216\", \"Sioux<br>MWh 5662828\", \"New Madrid<br>MWh 7898574\", \"Thomas Hill<br>MWh 7794221\", \"Lon Wright<br>MWh 454917\", \"Sheldon<br>MWh 902935\", \"North Omaha<br>MWh 1740991\", \"Merrimack<br>MWh 548172\", \"Schiller<br>MWh 88195\", \"B L England<br>MWh 13737\", \"Four Corners<br>MWh 7465765\", \"San Juan<br>MWh 4655756\", \"Cayuga Operating Company<br>MWh 93246\", \"Asheville<br>MWh 1232330\", \"Roxboro<br>MWh 5887895\", \"G G Allen<br>MWh 814285\", \"James E. Rogers Energy Complex<br>MWh 5523859\", \"Marshall (NC)<br>MWh 8466514\", \"R M Heskett<br>MWh 497303\", \"Leland Olds<br>MWh 3354494\", \"Milton R Young<br>MWh 4891789\", \"Cardinal<br>MWh 10000462\", \"Miami Fort<br>MWh 5394008\", \"Avon Lake<br>MWh 1056113\", \"Conesville<br>MWh 4110470\", \"J M Stuart<br>MWh 2064675\", \"FirstEnergy W H Sammis<br>MWh 4736392\", \"Kyger Creek<br>MWh 5792909\", \"Dover<br>MWh 57528\", \"Orrville<br>MWh 14590\", \"Painesville<br>MWh 3046\", \"Muskogee<br>MWh 3806289\", \"Northeastern<br>MWh 2621945\", \"Conemaugh<br>MWh 11423932\", \"Homer City Generating Station<br>MWh 5104344\", \"Keystone<br>MWh 12416272\", \"Brunner Island<br>MWh 1000168\", \"TalenEnergy Montour<br>MWh 2602574\", \"Wateree<br>MWh 3789826\", \"Williams<br>MWh 2945908\", \"Allen<br>MWh 389576\", \"Bull Run<br>MWh 1390394\", \"Cumberland (TN)<br>MWh 10370388\", \"Gallatin (TN)<br>MWh 5127319\", \"Kingston<br>MWh 3041842\", \"W A Parish<br>MWh 14895707\", \"Big Brown<br>MWh 816416\", \"Chesterfield<br>MWh 1879342\", \"Yorktown<br>MWh 362710\", \"Transalta Centralia Generation<br>MWh 5350285\", \"John E Amos<br>MWh 12924819\", \"FirstEnergy Fort Martin Power Station<br>MWh 5995582\", \"FirstEnergy Harrison Power Station<br>MWh 13231653\", \"Mitchell (WV)<br>MWh 5473103\", \"Mt Storm<br>MWh 5513103\", \"Bay Front<br>MWh 795\", \"South Oak Creek<br>MWh 4733151\", \"Edgewater<br>MWh 3279943\", \"Pulliam<br>MWh 463009\", \"Weston<br>MWh 4576936\", \"Manitowoc<br>MWh 18345\", \"Genoa<br>MWh 1679750\", \"Dave Johnston<br>MWh 4793624\", \"Naughton<br>MWh 4731716\", \"John P Madgett<br>MWh 1887860\", \"Navajo<br>MWh 12994358\", \"James H Miller Jr<br>MWh 18000241\", \"FirstEnergy Pleasants Power Station<br>MWh 7000558\", \"White Bluff<br>MWh 8238975\", \"Duck Creek<br>MWh 2423361\", \"Newton<br>MWh 3211021\", \"East Bend<br>MWh 2781366\", \"W H Zimmer<br>MWh 8056161\", \"Craig (CO)<br>MWh 7324632\", \"Coal Creek<br>MWh 9125464\", \"Killen Station<br>MWh 1458240\", \"Belle River<br>MWh 7580516\", \"H L Spurlock<br>MWh 7691212\", \"Wansley<br>MWh 2795602\", \"Big Cajun 2<br>MWh 4006697\", \"R D Morrow<br>MWh 118208\", \"Nearman Creek<br>MWh 968262\", \"Iatan<br>MWh 7793751\", \"Jeffrey Energy Center<br>MWh 9483247\", \"Trimble County<br>MWh 7999441\", \"Victor J Daniel Jr<br>MWh 2330344\", \"Colstrip<br>MWh 12641861\", \"Gerald Gentleman<br>MWh 8834437\", \"Somerset Operating Co LLC<br>MWh 586196\", \"R M Schahfer<br>MWh 6708347\", \"Lewis & Clark<br>MWh 234234\", \"Sherburne County<br>MWh 12462912\", \"FirstEnergy Bruce Mansfield<br>MWh 3040948\", \"Sooner<br>MWh 4432949\", \"Nebraska City<br>MWh 9086063\", \"Big Stone<br>MWh 2339337\", \"Wyodak<br>MWh 2250043\", \"Boardman<br>MWh 1281563\", \"Gibson<br>MWh 17597324\", \"McIntosh<br>MWh 22901\", \"Gibbons Creek<br>MWh 782963\", \"A B Brown<br>MWh 2385978\", \"Flint Creek<br>MWh 2663090\", \"Welsh<br>MWh 5448746\", \"Martin Lake<br>MWh 14040515\", \"Rush Island<br>MWh 7760081\", \"Hunter<br>MWh 8283535\", \"Rockport<br>MWh 11877396\", \"Pleasant Prairie<br>MWh 1767019\", \"Coronado<br>MWh 3591093\", \"Coleto Creek<br>MWh 3846173\", \"Fayette Power Project<br>MWh 10341894\", \"Oak Grove (TX)<br>MWh 12154845\", \"J T Deely<br>MWh 4594347\", \"San Miguel<br>MWh 2506974\", \"Brame Energy Center<br>MWh 3630837\", \"Harrington<br>MWh 4754028\", \"Tolk<br>MWh 3781210\", \"John Twitty Energy Center<br>MWh 2514723\", \"Laramie River Station<br>MWh 10672938\", \"Merom<br>MWh 5864837\", \"Pawnee<br>MWh 3271189\", \"Winyah<br>MWh 1559185\", \"Mayo<br>MWh 1482603\", \"Ottumwa<br>MWh 3729262\", \"Scherer<br>MWh 15406982\", \"Mountaineer<br>MWh 5689196\", \"Healy<br>MWh 169502\", \"Antelope Valley<br>MWh 6426456\", \"Intermountain Power Project<br>MWh 8481951\", \"R D Green<br>MWh 3048332\", \"Independence Steam Electric Station<br>MWh 9676312\", \"Sandow No 4<br>MWh 106636\", \"Louisa<br>MWh 4860241\", \"Warrick<br>MWh 4312189\", \"Rawhide<br>MWh 1802039\", \"Sikeston Power Station<br>MWh 1795948\", \"Hugo<br>MWh 1638014\", \"D B Wilson<br>MWh 2252288\", \"Major Oak Power<br>MWh 2453003\", \"J K Spruce<br>MWh 7199494\", \"Cope<br>MWh 1482731\", \"Clover<br>MWh 2907274\", \"Polk<br>MWh 728670\", \"George Neal South<br>MWh 3070909\", \"Neil Simpson II<br>MWh 642257\", \"Kapstone<br>MWh 165999\", \"Bonanza<br>MWh 3651856\", \"Pirkey<br>MWh 4577189\", \"Columbia (WI)<br>MWh 6636482\", \"Belews Creek<br>MWh 7978957\", \"Jim Bridger<br>MWh 10957269\", \"Huntington<br>MWh 5083347\", \"Gavin Power, LLC<br>MWh 15976399\", \"Ray D Nixon<br>MWh 1129110\", \"Coyote<br>MWh 3060450\", \"Springerville<br>MWh 9923571\", \"North Valmy<br>MWh 1442546\", \"Cheswick Power Plant<br>MWh 1189140\", \"WestRock-West Point Mill<br>MWh 14840\", \"RED-Rochester, LLC<br>MWh 10943\", \"Logan Generating Company LP<br>MWh 533471\", \"Fernandina Beach Mill<br>MWh 80110\", \"Escanaba Mill<br>MWh 6301\", \"Biron Mill<br>MWh 122656\", \"Consumer Operations LLC<br>MWh 62359\", \"Savannah River Mill<br>MWh 48690\", \"Muskogee Mill<br>MWh 204751\", \"James River Genco LLC<br>MWh 44177\", \"CPI USA NC Southport<br>MWh 48361\", \"CPI USA NC Roxboro<br>MWh 40691\", \"Edgecombe Genco LLC<br>MWh 9082\", \"Inland Paperboard Packaging Rome<br>MWh 41296\", \"Wisconsin Rapids Pulp Mill<br>MWh 53079\", \"Rumford Cogeneration<br>MWh 56284\", \"Amalgamated Sugar Twin Falls<br>MWh 20338\", \"Chambers Cogeneration LP<br>MWh 646080\", \"River Valley<br>MWh 1833890\", \"AES Hawaii<br>MWh 1311203\", \"AES Warrior Run Cogeneration Facility<br>MWh 1141404\", \"Argus Cogen Plant<br>MWh 281328\", \"Rapids Energy Center<br>MWh 34514\", \"Georgia-Pacific Consr Prods LP-Naheola<br>MWh 43776\", \"Silver Bay Power<br>MWh 350326\", \"Archer Daniels Midland Clinton<br>MWh 738591\", \"Archer Daniels Midland Des Moines<br>MWh 26492\", \"Archer Daniels Midland Lincoln<br>MWh 29535\", \"Archer Daniels Midland Mankato<br>MWh 22110\", \"Archer Daniels Midland Cedar Rapids<br>MWh 731764\", \"Archer Daniels Midland Decatur<br>MWh 1326779\", \"Tate & Lyle Decatur Plant Cogen<br>MWh 208210\", \"University of Northern Iowa<br>MWh 4598\", \"Imperial Savannah LP<br>MWh 8133\", \"Nippon Dynawave Packaging Longview WA<br>MWh 23601\", \"Purdue University<br>MWh 29483\", \"Canton North Carolina<br>MWh 105934\", \"Verso Paper Quinnesec Mich Mill<br>MWh 100\", \"KapStone Kraft Paper Corp<br>MWh 34310\", \"Luke Mill<br>MWh 59744\", \"Packaging Corp of America<br>MWh 518\", \"Alpena Cement Plant<br>MWh 34711\", \"Utility Plants Section<br>MWh 90177\", \"University of Notre Dame<br>MWh 8420\", \"Eielson AFB Central Heat & Power Plant<br>MWh 67619\", \"Pixelle Specialty Solutions LLC - Spring Grove Facility<br>MWh 72706\", \"S D Warren Westbrook<br>MWh 14543\", \"Tennessee Eastman Operations<br>MWh 646676\", \"Mosinee Mill<br>MWh 47256\", \"Flambeau River Papers<br>MWh 3123\", \"University of Alaska Fairbanks<br>MWh 35858\", \"Florence Mill<br>MWh 12769\", \"WestRock Panama City Mill<br>MWh 17546\", \"Hopewell Mill<br>MWh 5307\", \"TES Filer City Station<br>MWh 426929\", \"Covington Facility<br>MWh 162110\", \"Rhinelander Mill<br>MWh 19817\", \"MU Combined Heat and Power Plant<br>MWh 10123\", \"Indiantown Cogeneration LP<br>MWh 6666\", \"Mecklenburg Power Station<br>MWh 57227\", \"Sandow No 5<br>MWh 141443\", \"Spruance Genco LLC<br>MWh 38985\", \"International Paper Georgetown Mill<br>MWh 1228\", \"Kaukauna Paper Mill<br>MWh 80596\", \"Georgia-Pacific Cedar Springs<br>MWh 95196\", \"Ashdown<br>MWh 45505\", \"Iowa State University<br>MWh 56656\", \"Univ of NC Chapel Hill Cogen Facility<br>MWh 38679\", \"Birchwood Power<br>MWh 541836\", \"General Chemical<br>MWh 177120\", \"Graphic Packaging International Augusta Mill<br>MWh 4235\", \"Southern Minnesota Beet Sugar<br>MWh 14619\", \"Ingredion Incorporated<br>MWh 213409\", \"Ingredion Winston Salem<br>MWh 1351\", \"International Paper Pine Hill Mill<br>MWh 76\", \"University of Iowa Main Power Plant<br>MWh 13207\", \"University of Illinois Abbott Power Plt<br>MWh 22539\", \"Neenah Paper Munising Mill<br>MWh 32227\", \"Red Hills Generating Facility<br>MWh 2831491\", \"Wygen 1<br>MWh 638162\", \"Hardin Generator Project<br>MWh 146460\", \"Prairie State Generating Station<br>MWh 11512875\", \"Elm Road Generating Station<br>MWh 7890205\", \"TS Power Plant<br>MWh 1042500\", \"Wygen 2<br>MWh 768461\", \"Plum Point Energy Station<br>MWh 5196709\", \"John W Turk Jr Power Plant<br>MWh 4175510\", \"Wygen III<br>MWh 850379\", \"Dry Fork Station<br>MWh 2974851\", \"Sandy Creek Energy Station<br>MWh 6469237\", \"Longview Power Plant<br>MWh 5208252\", \"Virginia Tech Power Plant<br>MWh 6235\", \"Spiritwood Station<br>MWh 184710\", \"Virginia City Hybrid Energy Center<br>MWh 2736100\", \"Archer Daniels Midland Columbus<br>MWh 322939\", \"Sidney MT Plant<br>MWh 5346\", \"Genesis Alkali<br>MWh 222466\", \"Sonoco Products Co<br>MWh 2055\", \"SIUC<br>MWh 8696\", \"Western Sugar Coop - Scottsbluff<br>MWh 21368\", \"Wausau Paper Middletown<br>MWh 5971\", \"MSC Sebewaing<br>MWh 103\", \"Roquette America<br>MWh 12440\", \"Southeast Steam Plant<br>MWh 3\", \"Western Sugar Coop- Ft Morgan<br>MWh 11939\", \"Western Sugar Cooperative - Billings<br>MWh 4882\", null], \"type\": \"scattergeo\"}],\n",
              "                        {\"geo\": {\"landcolor\": \"lightgreen\", \"scope\": \"usa\"}, \"showlegend\": true, \"template\": {\"data\": {\"bar\": [{\"error_x\": {\"color\": \"#2a3f5f\"}, \"error_y\": {\"color\": \"#2a3f5f\"}, \"marker\": {\"line\": {\"color\": \"#E5ECF6\", \"width\": 0.5}}, \"type\": \"bar\"}], \"barpolar\": [{\"marker\": {\"line\": {\"color\": \"#E5ECF6\", \"width\": 0.5}}, \"type\": \"barpolar\"}], \"carpet\": [{\"aaxis\": {\"endlinecolor\": \"#2a3f5f\", \"gridcolor\": \"white\", \"linecolor\": \"white\", \"minorgridcolor\": \"white\", \"startlinecolor\": \"#2a3f5f\"}, \"baxis\": {\"endlinecolor\": \"#2a3f5f\", \"gridcolor\": \"white\", \"linecolor\": \"white\", \"minorgridcolor\": \"white\", \"startlinecolor\": \"#2a3f5f\"}, \"type\": \"carpet\"}], \"choropleth\": [{\"colorbar\": {\"outlinewidth\": 0, \"ticks\": \"\"}, \"type\": \"choropleth\"}], \"contour\": [{\"colorbar\": {\"outlinewidth\": 0, \"ticks\": \"\"}, \"colorscale\": [[0.0, \"#0d0887\"], [0.1111111111111111, \"#46039f\"], [0.2222222222222222, \"#7201a8\"], [0.3333333333333333, \"#9c179e\"], [0.4444444444444444, \"#bd3786\"], [0.5555555555555556, \"#d8576b\"], [0.6666666666666666, \"#ed7953\"], [0.7777777777777778, \"#fb9f3a\"], [0.8888888888888888, \"#fdca26\"], [1.0, \"#f0f921\"]], \"type\": \"contour\"}], \"contourcarpet\": [{\"colorbar\": {\"outlinewidth\": 0, \"ticks\": \"\"}, \"type\": \"contourcarpet\"}], \"heatmap\": [{\"colorbar\": {\"outlinewidth\": 0, \"ticks\": \"\"}, \"colorscale\": [[0.0, \"#0d0887\"], [0.1111111111111111, \"#46039f\"], [0.2222222222222222, \"#7201a8\"], [0.3333333333333333, \"#9c179e\"], [0.4444444444444444, \"#bd3786\"], [0.5555555555555556, \"#d8576b\"], [0.6666666666666666, \"#ed7953\"], [0.7777777777777778, \"#fb9f3a\"], [0.8888888888888888, \"#fdca26\"], [1.0, \"#f0f921\"]], \"type\": \"heatmap\"}], \"heatmapgl\": [{\"colorbar\": {\"outlinewidth\": 0, \"ticks\": \"\"}, \"colorscale\": [[0.0, \"#0d0887\"], [0.1111111111111111, \"#46039f\"], [0.2222222222222222, \"#7201a8\"], [0.3333333333333333, \"#9c179e\"], [0.4444444444444444, \"#bd3786\"], [0.5555555555555556, \"#d8576b\"], [0.6666666666666666, \"#ed7953\"], [0.7777777777777778, \"#fb9f3a\"], [0.8888888888888888, \"#fdca26\"], [1.0, \"#f0f921\"]], \"type\": \"heatmapgl\"}], \"histogram\": [{\"marker\": {\"colorbar\": {\"outlinewidth\": 0, \"ticks\": \"\"}}, \"type\": \"histogram\"}], \"histogram2d\": [{\"colorbar\": {\"outlinewidth\": 0, \"ticks\": \"\"}, \"colorscale\": [[0.0, \"#0d0887\"], [0.1111111111111111, \"#46039f\"], [0.2222222222222222, \"#7201a8\"], [0.3333333333333333, \"#9c179e\"], [0.4444444444444444, \"#bd3786\"], [0.5555555555555556, \"#d8576b\"], [0.6666666666666666, \"#ed7953\"], [0.7777777777777778, \"#fb9f3a\"], [0.8888888888888888, \"#fdca26\"], [1.0, \"#f0f921\"]], \"type\": \"histogram2d\"}], \"histogram2dcontour\": [{\"colorbar\": {\"outlinewidth\": 0, \"ticks\": \"\"}, \"colorscale\": [[0.0, \"#0d0887\"], [0.1111111111111111, \"#46039f\"], [0.2222222222222222, \"#7201a8\"], [0.3333333333333333, \"#9c179e\"], [0.4444444444444444, \"#bd3786\"], [0.5555555555555556, \"#d8576b\"], [0.6666666666666666, \"#ed7953\"], [0.7777777777777778, \"#fb9f3a\"], [0.8888888888888888, \"#fdca26\"], [1.0, \"#f0f921\"]], \"type\": \"histogram2dcontour\"}], \"mesh3d\": [{\"colorbar\": {\"outlinewidth\": 0, \"ticks\": \"\"}, \"type\": \"mesh3d\"}], \"parcoords\": [{\"line\": {\"colorbar\": {\"outlinewidth\": 0, \"ticks\": \"\"}}, \"type\": \"parcoords\"}], \"scatter\": [{\"marker\": {\"colorbar\": {\"outlinewidth\": 0, \"ticks\": \"\"}}, \"type\": \"scatter\"}], \"scatter3d\": [{\"line\": {\"colorbar\": {\"outlinewidth\": 0, \"ticks\": \"\"}}, \"marker\": {\"colorbar\": {\"outlinewidth\": 0, \"ticks\": \"\"}}, \"type\": \"scatter3d\"}], \"scattercarpet\": [{\"marker\": {\"colorbar\": {\"outlinewidth\": 0, \"ticks\": \"\"}}, \"type\": \"scattercarpet\"}], \"scattergeo\": [{\"marker\": {\"colorbar\": {\"outlinewidth\": 0, \"ticks\": \"\"}}, \"type\": \"scattergeo\"}], \"scattergl\": [{\"marker\": {\"colorbar\": {\"outlinewidth\": 0, \"ticks\": \"\"}}, \"type\": \"scattergl\"}], \"scattermapbox\": [{\"marker\": {\"colorbar\": {\"outlinewidth\": 0, \"ticks\": \"\"}}, \"type\": \"scattermapbox\"}], \"scatterpolar\": [{\"marker\": {\"colorbar\": {\"outlinewidth\": 0, \"ticks\": \"\"}}, \"type\": \"scatterpolar\"}], \"scatterpolargl\": [{\"marker\": {\"colorbar\": {\"outlinewidth\": 0, \"ticks\": \"\"}}, \"type\": \"scatterpolargl\"}], \"scatterternary\": [{\"marker\": {\"colorbar\": {\"outlinewidth\": 0, \"ticks\": \"\"}}, \"type\": \"scatterternary\"}], \"surface\": [{\"colorbar\": {\"outlinewidth\": 0, \"ticks\": \"\"}, \"colorscale\": [[0.0, \"#0d0887\"], [0.1111111111111111, \"#46039f\"], [0.2222222222222222, \"#7201a8\"], [0.3333333333333333, \"#9c179e\"], [0.4444444444444444, \"#bd3786\"], [0.5555555555555556, \"#d8576b\"], [0.6666666666666666, \"#ed7953\"], [0.7777777777777778, \"#fb9f3a\"], [0.8888888888888888, \"#fdca26\"], [1.0, \"#f0f921\"]], \"type\": \"surface\"}], \"table\": [{\"cells\": {\"fill\": {\"color\": \"#EBF0F8\"}, \"line\": {\"color\": \"white\"}}, \"header\": {\"fill\": {\"color\": \"#C8D4E3\"}, \"line\": {\"color\": \"white\"}}, \"type\": \"table\"}]}, \"layout\": {\"annotationdefaults\": {\"arrowcolor\": \"#2a3f5f\", \"arrowhead\": 0, \"arrowwidth\": 1}, \"colorscale\": {\"diverging\": [[0, \"#8e0152\"], [0.1, \"#c51b7d\"], [0.2, \"#de77ae\"], [0.3, \"#f1b6da\"], [0.4, \"#fde0ef\"], [0.5, \"#f7f7f7\"], [0.6, \"#e6f5d0\"], [0.7, \"#b8e186\"], [0.8, \"#7fbc41\"], [0.9, \"#4d9221\"], [1, \"#276419\"]], \"sequential\": [[0.0, \"#0d0887\"], [0.1111111111111111, \"#46039f\"], [0.2222222222222222, \"#7201a8\"], [0.3333333333333333, \"#9c179e\"], [0.4444444444444444, \"#bd3786\"], [0.5555555555555556, \"#d8576b\"], [0.6666666666666666, \"#ed7953\"], [0.7777777777777778, \"#fb9f3a\"], [0.8888888888888888, \"#fdca26\"], [1.0, \"#f0f921\"]], \"sequentialminus\": [[0.0, \"#0d0887\"], [0.1111111111111111, \"#46039f\"], [0.2222222222222222, \"#7201a8\"], [0.3333333333333333, \"#9c179e\"], [0.4444444444444444, \"#bd3786\"], [0.5555555555555556, \"#d8576b\"], [0.6666666666666666, \"#ed7953\"], [0.7777777777777778, \"#fb9f3a\"], [0.8888888888888888, \"#fdca26\"], [1.0, \"#f0f921\"]]}, \"colorway\": [\"#636efa\", \"#EF553B\", \"#00cc96\", \"#ab63fa\", \"#FFA15A\", \"#19d3f3\", \"#FF6692\", \"#B6E880\", \"#FF97FF\", \"#FECB52\"], \"font\": {\"color\": \"#2a3f5f\"}, \"geo\": {\"bgcolor\": \"white\", \"lakecolor\": \"white\", \"landcolor\": \"#E5ECF6\", \"showlakes\": true, \"showland\": true, \"subunitcolor\": \"white\"}, \"hoverlabel\": {\"align\": \"left\"}, \"hovermode\": \"closest\", \"mapbox\": {\"style\": \"light\"}, \"paper_bgcolor\": \"white\", \"plot_bgcolor\": \"#E5ECF6\", \"polar\": {\"angularaxis\": {\"gridcolor\": \"white\", \"linecolor\": \"white\", \"ticks\": \"\"}, \"bgcolor\": \"#E5ECF6\", \"radialaxis\": {\"gridcolor\": \"white\", \"linecolor\": \"white\", \"ticks\": \"\"}}, \"scene\": {\"xaxis\": {\"backgroundcolor\": \"#E5ECF6\", \"gridcolor\": \"white\", \"gridwidth\": 2, \"linecolor\": \"white\", \"showbackground\": true, \"ticks\": \"\", \"zerolinecolor\": \"white\"}, \"yaxis\": {\"backgroundcolor\": \"#E5ECF6\", \"gridcolor\": \"white\", \"gridwidth\": 2, \"linecolor\": \"white\", \"showbackground\": true, \"ticks\": \"\", \"zerolinecolor\": \"white\"}, \"zaxis\": {\"backgroundcolor\": \"#E5ECF6\", \"gridcolor\": \"white\", \"gridwidth\": 2, \"linecolor\": \"white\", \"showbackground\": true, \"ticks\": \"\", \"zerolinecolor\": \"white\"}}, \"shapedefaults\": {\"line\": {\"color\": \"#2a3f5f\"}}, \"ternary\": {\"aaxis\": {\"gridcolor\": \"white\", \"linecolor\": \"white\", \"ticks\": \"\"}, \"baxis\": {\"gridcolor\": \"white\", \"linecolor\": \"white\", \"ticks\": \"\"}, \"bgcolor\": \"#E5ECF6\", \"caxis\": {\"gridcolor\": \"white\", \"linecolor\": \"white\", \"ticks\": \"\"}}, \"title\": {\"x\": 0.05}, \"xaxis\": {\"automargin\": true, \"gridcolor\": \"white\", \"linecolor\": \"white\", \"ticks\": \"\", \"zerolinecolor\": \"white\", \"zerolinewidth\": 2}, \"yaxis\": {\"automargin\": true, \"gridcolor\": \"white\", \"linecolor\": \"white\", \"ticks\": \"\", \"zerolinecolor\": \"white\", \"zerolinewidth\": 2}}}, \"title\": {\"text\": \"Coal Plants Spewing Pollution in U.S. - 2018 - Scaled by MWh\"}},\n",
              "                        {\"responsive\": true}\n",
              "                    ).then(function(){\n",
              "                            \n",
              "var gd = document.getElementById('8662d9d0-a4da-4652-8141-25765aa1b6b9');\n",
              "var x = new MutationObserver(function (mutations, observer) {{\n",
              "        var display = window.getComputedStyle(gd).display;\n",
              "        if (!display || display === 'none') {{\n",
              "            console.log([gd, 'removed!']);\n",
              "            Plotly.purge(gd);\n",
              "            observer.disconnect();\n",
              "        }}\n",
              "}});\n",
              "\n",
              "// Listen for the removal of the full notebook cells\n",
              "var notebookContainer = gd.closest('#notebook-container');\n",
              "if (notebookContainer) {{\n",
              "    x.observe(notebookContainer, {childList: true});\n",
              "}}\n",
              "\n",
              "// Listen for the clearing of the current output cell\n",
              "var outputEl = gd.closest('.output');\n",
              "if (outputEl) {{\n",
              "    x.observe(outputEl, {childList: true});\n",
              "}}\n",
              "\n",
              "                        })\n",
              "                };\n",
              "                \n",
              "            </script>\n",
              "        </div>\n",
              "</body>\n",
              "</html>"
            ]
          },
          "metadata": {
            "tags": []
          }
        }
      ]
    },
    {
      "cell_type": "markdown",
      "metadata": {
        "id": "YZl68GcZoJ4R",
        "colab_type": "text"
      },
      "source": [
        "## Vizualize.\n",
        "\n",
        "Vis u a lize."
      ]
    },
    {
      "cell_type": "code",
      "metadata": {
        "id": "rFkcwB6_opHV",
        "colab_type": "code",
        "outputId": "6cf31b62-86e8-4374-947b-6129ea525e9b",
        "colab": {
          "base_uri": "https://localhost:8080/",
          "height": 542
        }
      },
      "source": [
        "fig.show()"
      ],
      "execution_count": 18,
      "outputs": [
        {
          "output_type": "display_data",
          "data": {
            "text/html": [
              "<html>\n",
              "<head><meta charset=\"utf-8\" /></head>\n",
              "<body>\n",
              "    <div>\n",
              "            <script src=\"https://cdnjs.cloudflare.com/ajax/libs/mathjax/2.7.5/MathJax.js?config=TeX-AMS-MML_SVG\"></script><script type=\"text/javascript\">if (window.MathJax) {MathJax.Hub.Config({SVG: {font: \"STIX-Web\"}});}</script>\n",
              "                <script type=\"text/javascript\">window.PlotlyConfig = {MathJaxConfig: 'local'};</script>\n",
              "        <script src=\"https://cdn.plot.ly/plotly-latest.min.js\"></script>    \n",
              "            <div id=\"81600bd2-f18c-4889-9b5e-19329e45622c\" class=\"plotly-graph-div\" style=\"height:525px; width:100%;\"></div>\n",
              "            <script type=\"text/javascript\">\n",
              "                \n",
              "                    window.PLOTLYENV=window.PLOTLYENV || {};\n",
              "                    \n",
              "                if (document.getElementById(\"81600bd2-f18c-4889-9b5e-19329e45622c\")) {\n",
              "                    Plotly.newPlot(\n",
              "                        '81600bd2-f18c-4889-9b5e-19329e45622c',\n",
              "                        [{\"lat\": [\"31.006900\", \"33.644344\", \"33.244211\", \"32.030556\", \"31.488019\", \"40.854765\", \"40.580872\", \"64.847743\", \"35.415900\", \"37.930800\", \"34.939400\", \"34.082500\", \"33.371506\", \"29.733056\", \"32.060300\", \"36.190278\", \"31.421900\", \"38.208100\", \"38.824444\", \"40.485600\", \"38.238300\", \"28.482200\", \"41.170600\", \"38.585700\", \"39.180000\", \"28.965600\", \"30.566100\", \"27.794400\", \"29.759200\", \"30.417200\", \"28.080100\", \"34.125600\", \"34.252800\", \"40.595800\", \"39.058600\", \"39.590556\", \"40.540800\", \"42.383300\", \"41.633400\", \"37.209400\", \"38.205000\", \"40.279700\", \"41.302800\", \"39.754803\", \"37.619747\", \"38.737800\", \"38.528100\", \"41.645000\", \"41.720800\", \"39.924200\", \"38.806700\", \"38.263600\", \"37.911100\", \"39.802800\", \"43.335900\", \"41.944039\", \"41.180000\", \"42.299794\", \"40.741200\", \"42.526700\", \"41.391700\", \"38.348100\", \"39.007200\", \"39.053900\", \"37.788310\", \"38.749700\", \"38.052500\", \"37.794200\", \"37.260800\", \"37.151700\", \"37.646900\", \"36.998100\", \"30.284400\", \"39.323604\", \"39.178100\", \"38.544400\", \"39.209700\", \"38.359200\", \"43.644996\", \"42.910296\", \"41.890600\", \"42.273900\", \"42.764200\", \"42.121700\", \"46.578900\", \"43.070600\", \"42.718390\", \"42.692222\", \"46.530598\", \"47.261100\", \"46.735331\", \"45.030000\", \"46.290641\", \"47.429400\", \"47.522428\", \"45.121705\", \"37.361315\", \"39.130600\", \"38.311400\", \"39.178319\", \"38.562244\", \"38.915479\", \"36.514700\", \"39.552200\", \"41.428100\", \"40.558900\", \"41.329090\", \"43.141100\", \"43.097800\", \"39.290800\", \"36.690000\", \"36.800600\", \"42.602800\", \"35.473100\", \"36.483300\", \"35.189700\", \"35.220000\", \"35.597500\", \"46.866900\", \"47.280769\", \"47.065854\", \"40.252200\", \"39.112800\", \"41.504453\", \"40.184200\", \"38.636100\", \"40.531700\", \"38.914400\", \"40.520066\", \"40.850964\", \"41.726500\", \"35.761350\", \"36.431700\", \"40.384200\", \"40.512825\", \"40.660400\", \"40.096111\", \"41.071400\", \"33.826400\", \"33.015800\", \"35.074087\", \"36.021100\", \"36.390300\", \"36.315600\", \"35.899200\", \"29.482800\", \"31.820600\", \"37.382200\", \"37.214400\", \"46.755938\", \"38.473100\", \"39.710833\", \"39.384167\", \"39.829700\", \"39.200800\", \"46.587222\", \"42.845700\", \"43.715142\", \"44.540000\", \"44.860600\", \"44.082000\", \"43.558900\", \"42.837800\", \"41.758100\", \"44.303583\", \"36.904700\", \"33.631900\", \"39.366667\", \"34.422800\", \"40.466300\", \"38.936100\", \"38.903600\", \"38.867500\", \"40.462700\", \"47.377743\", \"38.690300\", \"42.775600\", \"38.700000\", \"33.413420\", \"30.726100\", \"31.218600\", \"39.168100\", \"39.447200\", \"39.286453\", \"38.584700\", \"30.532200\", \"45.883100\", \"41.080800\", \"43.358889\", \"41.216400\", \"47.678500\", \"45.380800\", \"40.634800\", \"36.453070\", \"40.621400\", \"45.303652\", \"44.290128\", \"45.693182\", \"38.372222\", \"32.356287\", \"30.619937\", \"37.905300\", \"36.256100\", \"33.055220\", \"32.260600\", \"38.131248\", \"39.174700\", \"37.925600\", \"42.538100\", \"34.578900\", \"28.712800\", \"29.917200\", \"31.180300\", \"29.308056\", \"28.704400\", \"31.395000\", \"35.298160\", \"34.186494\", \"37.151706\", \"42.108889\", \"39.069400\", \"40.221700\", \"33.331840\", \"36.527800\", \"41.096100\", \"33.060600\", \"38.979400\", \"63.854200\", \"47.370542\", \"39.509731\", \"37.646100\", \"35.678442\", \"30.565871\", \"41.318100\", \"37.915000\", \"40.860905\", \"36.879100\", \"34.015800\", \"37.449700\", \"31.091925\", \"29.309722\", \"33.364400\", \"36.869000\", \"27.728600\", \"42.300600\", \"44.285600\", \"32.900000\", \"40.086400\", \"32.460700\", \"43.486400\", \"36.281100\", \"41.737800\", \"39.379200\", \"38.934700\", \"38.633451\", \"47.221447\", \"34.318600\", \"40.881317\", \"40.538300\", \"37.539200\", \"43.198900\", \"39.792800\", \"30.681823\", \"45.804400\", \"44.430000\", \"44.493600\", \"32.331274\", \"35.732200\", \"37.293900\", \"33.944384\", \"36.435000\", \"36.037318\", \"34.252800\", \"44.395300\", \"44.551300\", \"42.532800\", \"39.693494\", \"35.193100\", \"21.303419\", \"39.595171\", \"35.765000\", \"47.234825\", \"32.226800\", \"47.286573\", \"41.820600\", \"41.624438\", \"40.866463\", \"44.187066\", \"41.922100\", \"39.870074\", \"39.849190\", \"42.513608\", \"32.143989\", \"46.123600\", \"40.417200\", \"35.535000\", \"45.795600\", \"36.476900\", \"39.473600\", \"35.047100\", \"45.069929\", \"64.825601\", \"41.709400\", \"64.671410\", \"39.870935\", \"43.684857\", \"36.521900\", \"44.788100\", \"45.935600\", \"64.854171\", \"34.149700\", \"30.141984\", \"37.291400\", \"44.217299\", \"37.799722\", \"45.639400\", \"38.946100\", \"27.038900\", \"36.600000\", \"30.568100\", \"37.455600\", \"33.360185\", \"44.282600\", \"31.166000\", \"33.641700\", \"42.027500\", \"35.906900\", \"38.266700\", \"41.593300\", \"33.328259\", \"44.796405\", \"41.777500\", \"36.033761\", \"31.969800\", \"41.657200\", \"40.105169\", \"46.409400\", \"33.376100\", \"44.285800\", \"45.757800\", \"38.279167\", \"42.849200\", \"40.746100\", \"44.291900\", \"35.664400\", \"33.649722\", \"44.291900\", \"44.388889\", \"31.474378\", \"39.707893\", \"37.231900\", \"46.926423\", \"36.916389\", \"41.416442\", \"47.717222\", \"41.621667\", \"34.385278\", \"37.711944\", \"41.858870\", \"39.519989\", \"43.741111\", \"40.389167\", \"44.980833\", \"40.263000\", \"45.765346\", null], \"locationmode\": \"USA-states\", \"lon\": [\"-88.010300\", \"-87.196486\", \"-86.458056\", \"-93.569167\", \"-87.910747\", \"-98.348222\", \"-98.312437\", \"-147.735063\", \"-108.082000\", \"-100.972500\", \"-110.303300\", \"-99.175300\", \"-80.113235\", \"-81.632778\", \"-109.893100\", \"-95.289400\", \"-96.252500\", \"-104.574700\", \"-104.833333\", \"-107.185000\", \"-108.506900\", \"-81.167800\", \"-73.184400\", \"-75.234100\", \"-76.538900\", \"-82.697700\", \"-87.224400\", \"-82.403600\", \"-82.387800\", \"-81.552500\", \"-81.922900\", \"-84.922200\", \"-85.345600\", \"-89.663100\", \"-89.403100\", \"-89.496389\", \"-89.678600\", \"-87.813300\", \"-88.062900\", \"-88.858889\", \"-89.854400\", \"-90.080000\", \"-89.315000\", \"-89.602389\", \"-88.953114\", \"-85.420600\", \"-87.252500\", \"-87.122500\", \"-86.908600\", \"-87.424400\", \"-87.247200\", \"-85.838100\", \"-87.327500\", \"-84.895300\", \"-91.167500\", \"-91.639167\", \"-95.840800\", \"-96.361707\", \"-91.116667\", \"-92.439400\", \"-91.056900\", \"-94.645600\", \"-95.269167\", \"-95.568889\", \"-84.712570\", \"-85.035000\", \"-85.910300\", \"-87.060800\", \"-86.978300\", \"-88.775000\", \"-87.502800\", \"-84.591900\", \"-93.291100\", \"-76.365119\", \"-76.526800\", \"-76.686100\", \"-77.464400\", \"-76.976700\", \"-83.840074\", \"-86.200740\", \"-83.346400\", \"-83.111900\", \"-82.471900\", \"-83.180800\", \"-87.395000\", \"-86.235000\", \"-84.558080\", \"-84.657222\", \"-87.392206\", \"-93.652800\", \"-92.151711\", \"-92.778600\", \"-96.043252\", \"-92.935000\", \"-92.540951\", \"-95.053236\", \"-94.589260\", \"-94.477800\", \"-93.934800\", \"-94.184445\", \"-90.837686\", \"-90.290247\", \"-89.561700\", \"-92.638100\", \"-96.462300\", \"-96.784700\", \"-95.944660\", \"-71.469200\", \"-70.784200\", \"-74.636400\", \"-108.481400\", \"-108.438600\", \"-76.633600\", \"-82.541700\", \"-79.073100\", \"-81.012200\", \"-81.759400\", \"-80.965800\", \"-100.883600\", \"-101.321213\", \"-101.213093\", \"-80.648600\", \"-84.803600\", \"-82.054619\", \"-81.881100\", \"-83.693900\", \"-80.631900\", \"-82.128900\", \"-81.468150\", \"-81.765764\", \"-81.254000\", \"-95.287320\", \"-95.700800\", \"-79.061100\", \"-79.196107\", \"-79.341100\", \"-76.696200\", \"-76.667200\", \"-80.622800\", \"-79.929700\", \"-90.148680\", \"-84.156700\", \"-87.653900\", \"-86.400600\", \"-84.519400\", \"-95.631100\", \"-96.054400\", \"-77.383300\", \"-76.461100\", \"-122.859764\", \"-81.823300\", \"-79.927500\", \"-80.332500\", \"-80.815300\", \"-79.263600\", \"-90.901700\", \"-87.829400\", \"-87.705863\", \"-88.008600\", \"-89.655300\", \"-87.655800\", \"-91.232500\", \"-105.776900\", \"-110.598300\", \"-91.912647\", \"-111.388600\", \"-87.059700\", \"-81.294444\", \"-92.140600\", \"-89.984100\", \"-88.278100\", \"-84.851400\", \"-84.228900\", \"-107.591200\", \"-101.157058\", \"-83.480300\", \"-82.495000\", \"-83.818100\", \"-85.032329\", \"-91.369200\", \"-89.394000\", \"-94.697500\", \"-94.980000\", \"-96.117231\", \"-85.411700\", \"-88.555300\", \"-106.614000\", \"-101.140800\", \"-78.604722\", \"-87.026100\", \"-104.156650\", \"-93.893100\", \"-80.415900\", \"-97.052790\", \"-95.776400\", \"-96.510067\", \"-105.381482\", \"-119.808819\", \"-87.765833\", \"-81.168347\", \"-96.081846\", \"-87.715000\", \"-94.524100\", \"-94.839993\", \"-94.570600\", \"-90.263157\", \"-111.028900\", \"-87.037200\", \"-87.903300\", \"-109.270800\", \"-97.214167\", \"-96.750600\", \"-96.486600\", \"-98.322800\", \"-98.477500\", \"-92.716667\", \"-101.747187\", \"-102.569990\", \"-93.388040\", \"-104.882500\", \"-87.510800\", \"-103.680300\", \"-79.357236\", \"-78.891700\", \"-92.555833\", \"-83.807500\", \"-81.934400\", \"-148.950000\", \"-101.835660\", \"-112.580180\", \"-87.500000\", \"-91.408761\", \"-97.064032\", \"-91.093100\", \"-87.332800\", \"-105.021207\", \"-89.620900\", \"-95.320600\", \"-87.080600\", \"-96.695030\", \"-98.320300\", \"-81.030000\", \"-78.704000\", \"-81.989700\", \"-96.361700\", \"-105.383300\", \"-79.966700\", \"-109.284400\", \"-94.485200\", \"-89.420300\", \"-80.060300\", \"-108.787500\", \"-111.078100\", \"-82.115800\", \"-104.705770\", \"-101.815722\", \"-109.163900\", \"-117.151605\", \"-79.790600\", \"-76.805300\", \"-77.631900\", \"-75.406667\", \"-81.455413\", \"-87.089100\", \"-89.780000\", \"-88.030300\", \"-81.201496\", \"-95.293900\", \"-77.269700\", \"-78.011824\", \"-78.961900\", \"-77.753345\", \"-85.327500\", \"-89.826000\", \"-70.541400\", \"-114.432800\", \"-75.485811\", \"-94.645800\", \"-158.106528\", \"-78.745333\", \"-117.383300\", \"-93.537169\", \"-88.025200\", \"-91.260531\", \"-90.209700\", \"-93.584515\", \"-96.614486\", \"-93.992420\", \"-91.687500\", \"-88.890756\", \"-88.931944\", \"-92.459122\", \"-81.146550\", \"-122.972800\", \"-86.912200\", \"-82.841100\", \"-87.955600\", \"-77.641400\", \"-79.056900\", \"-88.266100\", \"-83.408182\", \"-147.648627\", \"-86.236700\", \"-147.075988\", \"-76.868117\", \"-70.353152\", \"-82.543100\", \"-89.691700\", \"-90.447200\", \"-147.822075\", \"-79.560600\", \"-85.621103\", \"-77.281600\", \"-86.289050\", \"-79.994700\", \"-89.420500\", \"-92.332800\", \"-80.512500\", \"-78.530000\", \"-97.061400\", \"-77.430800\", \"-79.302573\", \"-88.253400\", \"-85.095100\", \"-94.108300\", \"-93.639400\", \"-79.061700\", \"-77.314700\", \"-109.754200\", \"-81.953078\", \"-95.179787\", \"-87.823300\", \"-80.227404\", \"-87.480600\", \"-91.540000\", \"-88.241528\", \"-86.644300\", \"-89.218300\", \"-105.383300\", \"-107.600000\", \"-89.666944\", \"-87.833600\", \"-116.529700\", \"-105.381100\", \"-89.948900\", \"-93.811944\", \"-105.380600\", \"-105.460833\", \"-96.957149\", \"-79.958974\", \"-80.421100\", \"-98.499713\", \"-82.338055\", \"-97.286328\", \"-104.135556\", \"-109.811944\", \"-80.067778\", \"-89.215000\", \"-103.634380\", \"-84.406153\", \"-83.447222\", \"-91.394167\", \"-93.249722\", \"-103.806900\", \"-108.499232\", null], \"marker\": {\"color\": \"rgb(1,   1, 10)\", \"line\": {\"color\": \"rgb(40,40,40)\", \"width\": 0.5}, \"size\": [72.68594, 109.81292, 57.0373, 28.4169, 24.91156, 10.71904, 27.52146, 3.55638, 25.60022, 29.24502, 72.24602, 66.31138, 190.4673, 153.76426, 12.466, 7.3782, 189.92506, 190.99134, 18.31394, 46.42026, 1.2218, 89.0302, 6.59402, 5.46776, 94.107, 168.41286, 62.52018, 58.22016, 8.69044, 17.1574, 30.53834, 271.65836, 3.49204, 65.66334, 105.97034, 95.8573, 90.13948, 32.29146, 19.88354, 96.1714, 144.01772, 48.83354, 34.42434, 46.87482, 34.17342, 127.20616, 181.696, 3.17246, 40.38846, 121.55436, 55.66656, 5.28228, 37.64044, 0.8184, 17.63908, 1.78028, 200.11982, 45.27964, 23.72716, 0.00212, 17.62864, 109.6565, 56.10024, 5.44774, 40.62574, 225.08448, 172.15232, 44.02866, 76.45824, 125.5274, 12.84624, 11.18704, 54.5669, 4.17418, 8.1444, 16.22456, 4.59594, 50.06944, 45.69342, 152.95092, 308.94446, 11.14598, 88.77472, 21.31948, 28.0397, 3.41278, 7.65344, 14.55946, 2.50514, 145.30322, 0.0151, 53.84928, 10.44446, 0.92666, 0.87228, 0.00648, 16.75754, 55.26754, 8.28796, 19.28552, 315.10432, 113.25656, 157.97148, 155.88442, 9.09834, 18.0587, 34.81982, 10.96344, 1.7639, 0.27474, 149.3153, 93.11512, 1.86492, 24.6466, 117.7579, 16.2857, 110.47718, 169.33028, 9.94606, 67.08988, 97.83578, 200.00924, 107.88016, 21.12226, 82.2094, 41.2935, 94.72784, 115.85818, 1.15056, 0.2918, 0.06092, 76.12578, 52.4389, 228.47864, 102.08688, 248.32544, 20.00336, 52.05148, 75.79652, 58.91816, 7.79152, 27.80788, 207.40776, 102.54638, 60.83684, 297.91414, 16.32832, 37.58684, 7.2542, 107.0057, 258.49638, 119.91164, 264.63306, 109.46206, 110.26206, 0.0159, 94.66302, 65.59886, 9.26018, 91.53872, 0.3669, 33.595, 95.87248, 94.63432, 37.7572, 259.88716, 360.00482, 140.01116, 164.7795, 48.46722, 64.22042, 55.62732, 161.12322, 146.49264, 182.50928, 29.1648, 151.61032, 153.82424, 55.91204, 80.13394, 2.36416, 19.36524, 155.87502, 189.66494, 159.98882, 46.60688, 252.83722, 176.68874, 11.72392, 134.16694, 4.68468, 249.25824, 60.81896, 88.65898, 181.72126, 46.78674, 45.00086, 25.63126, 351.94648, 0.45802, 15.65926, 47.71956, 53.2618, 108.97492, 280.8103, 155.20162, 165.6707, 237.54792, 35.34038, 71.82186, 76.92346, 206.83788, 243.0969, 91.88694, 50.13948, 72.61674, 95.08056, 75.6242, 50.29446, 213.45876, 117.29674, 65.42378, 31.1837, 29.65206, 74.58524, 308.13964, 113.78392, 3.39004, 128.52912, 169.63902, 60.96664, 193.52624, 2.13272, 97.20482, 86.24378, 36.04078, 35.91896, 32.76028, 45.04576, 49.06006, 143.98988, 29.65462, 58.14548, 14.5734, 61.41818, 12.84514, 3.31998, 73.03712, 91.54378, 132.72964, 159.57914, 219.14538, 101.66694, 319.52798, 22.5822, 61.209, 198.47142, 28.85092, 23.7828, 0.2968, 0.21886, 10.66942, 1.6022, 0.12602, 2.45312, 1.24718, 0.9738, 4.09502, 0.88354, 0.96722, 0.81382, 0.18164, 0.82592, 1.06158, 1.12568, 0.40676, 12.9216, 36.6778, 26.22406, 22.82808, 5.62656, 0.69028, 0.87552, 7.00652, 14.77182, 0.52984, 0.5907, 0.4422, 14.63528, 26.53558, 4.1642, 0.09196, 0.16266, 0.47202, 0.58966, 2.11868, 0.002, 0.6862, 1.19488, 0.01036, 0.69422, 1.80354, 0.1684, 1.35238, 1.45412, 0.29086, 12.93352, 0.94512, 0.06246, 0.71716, 0.25538, 0.35092, 0.10614, 8.53858, 3.2422, 0.39634, 0.20246, 0.13332, 1.14454, 2.82886, 0.7797, 0.02456, 1.61192, 1.90392, 0.9101, 1.13312, 0.77358, 10.83672, 3.5424, 0.0847, 0.29238, 4.26818, 0.02702, 0.00152, 0.26414, 0.45078, 0.64454, 56.62982, 12.76324, 2.9292, 230.2575, 157.8041, 20.85, 15.36922, 103.93418, 83.5102, 17.00758, 59.49702, 129.38474, 104.16504, 0.1247, 3.6942, 54.722, 6.45878, 0.10692, 4.44932, 0.0411, 0.17392, 0.42736, 0.11942, 0.00206, 0.2488, 6e-05, 0.23878, 0.09764, 28.58604], \"sizemode\": \"area\"}, \"name\": \"Coal Burning Plants\", \"text\": [\"Barry<br>MWh 3634297\", \"Gorgas<br>MWh 5490646\", \"E C Gaston<br>MWh 2851865\", \"Dolet Hills<br>MWh 1420845\", \"Charles R Lowman<br>MWh 1245578\", \"Platte<br>MWh 535952\", \"Whelan Energy Center<br>MWh 1376073\", \"Aurora Energy LLC Chena<br>MWh 177819\", \"Escalante<br>MWh 1280011\", \"Holcomb<br>MWh 1462251\", \"Cholla<br>MWh 3612301\", \"Oklaunion<br>MWh 3315569\", \"Cross<br>MWh 9523365\", \"Seminole (FL)<br>MWh 7688213\", \"Apache Station<br>MWh 623300\", \"GREC<br>MWh 368910\", \"Limestone<br>MWh 9496253\", \"Comanche (CO)<br>MWh 9549567\", \"Martin Drake<br>MWh 915697\", \"Hayden<br>MWh 2321013\", \"Nucla<br>MWh 61090\", \"Stanton Energy Center<br>MWh 4451510\", \"Bridgeport Station<br>MWh 329701\", \"Indian River Generating Station<br>MWh 273388\", \"Brandon Shores<br>MWh 4705350\", \"Crystal River<br>MWh 8420643\", \"Crist<br>MWh 3126009\", \"Big Bend<br>MWh 2911008\", \"Deerhaven Generating Station<br>MWh 434522\", \"Northside Generating Station<br>MWh 857870\", \"C D McIntosh Jr<br>MWh 1526917\", \"Bowen<br>MWh 13582918\", \"Hammond<br>MWh 174602\", \"E D Edwards<br>MWh 3283167\", \"Coffeen<br>MWh 5298517\", \"Kincaid Generation LLC<br>MWh 4792865\", \"Powerton<br>MWh 4506974\", \"Waukegan<br>MWh 1614573\", \"Will County<br>MWh 994177\", \"Joppa Steam<br>MWh 4808570\", \"Baldwin Energy Complex<br>MWh 7200886\", \"Havana<br>MWh 2441677\", \"Hennepin Power Station<br>MWh 1721217\", \"Dallman<br>MWh 2343741\", \"Marion<br>MWh 1708671\", \"Clifty Creek<br>MWh 6360308\", \"AES Petersburg<br>MWh 9084800\", \"Bailly<br>MWh 158623\", \"Michigan City<br>MWh 2019423\", \"Cayuga<br>MWh 6077718\", \"Edwardsport<br>MWh 2783328\", \"R Gallagher<br>MWh 264114\", \"F B Culley<br>MWh 1882022\", \"Whitewater Valley<br>MWh 40920\", \"Lansing<br>MWh 881954\", \"Prairie Creek<br>MWh 89014\", \"Walter Scott Jr Energy Center<br>MWh 10005991\", \"George Neal North<br>MWh 2263982\", \"Burlington (IA)<br>MWh 1186358\", \"Streeter Station<br>MWh 106\", \"Muscatine Plant #1<br>MWh 881432\", \"La Cygne<br>MWh 5482825\", \"Lawrence Energy Center<br>MWh 2805012\", \"Tecumseh Energy Center<br>MWh 272387\", \"E W Brown<br>MWh 2031287\", \"Ghent<br>MWh 11254224\", \"Mill Creek (KY)<br>MWh 8607616\", \"Elmer Smith<br>MWh 2201433\", \"Paradise<br>MWh 3822912\", \"Shawnee<br>MWh 6276370\", \"HMP&L Station Two Henderson<br>MWh 642312\", \"Cooper<br>MWh 559352\", \"R S Nelson<br>MWh 2728345\", \"CP Crane Power, LLC<br>MWh 208709\", \"Herbert A Wagner<br>MWh 407220\", \"Chalk Point LLC<br>MWh 811228\", \"Dickerson<br>MWh 229797\", \"Morgantown Generating Plant<br>MWh 2503472\", \"Dan E Karn<br>MWh 2284671\", \"J H Campbell<br>MWh 7647546\", \"Monroe (MI)<br>MWh 15447223\", \"River Rouge<br>MWh 557299\", \"St Clair<br>MWh 4438736\", \"Trenton Channel<br>MWh 1065974\", \"Presque Isle<br>MWh 1401985\", \"J B Sims<br>MWh 170639\", \"Eckert Station<br>MWh 382672\", \"Erickson Station<br>MWh 727973\", \"Shiras<br>MWh 125257\", \"Clay Boswell<br>MWh 7265161\", \"M L Hibbard<br>MWh 755\", \"Allen S King<br>MWh 2692464\", \"Hoot Lake<br>MWh 522223\", \"Hibbing<br>MWh 46333\", \"Virginia<br>MWh 43614\", \"Willmar<br>MWh 324\", \"Asbury<br>MWh 837877\", \"Hawthorn<br>MWh 2763377\", \"Montrose<br>MWh 414398\", \"Sibley<br>MWh 964276\", \"Labadie<br>MWh 15755216\", \"Sioux<br>MWh 5662828\", \"New Madrid<br>MWh 7898574\", \"Thomas Hill<br>MWh 7794221\", \"Lon Wright<br>MWh 454917\", \"Sheldon<br>MWh 902935\", \"North Omaha<br>MWh 1740991\", \"Merrimack<br>MWh 548172\", \"Schiller<br>MWh 88195\", \"B L England<br>MWh 13737\", \"Four Corners<br>MWh 7465765\", \"San Juan<br>MWh 4655756\", \"Cayuga Operating Company<br>MWh 93246\", \"Asheville<br>MWh 1232330\", \"Roxboro<br>MWh 5887895\", \"G G Allen<br>MWh 814285\", \"James E. Rogers Energy Complex<br>MWh 5523859\", \"Marshall (NC)<br>MWh 8466514\", \"R M Heskett<br>MWh 497303\", \"Leland Olds<br>MWh 3354494\", \"Milton R Young<br>MWh 4891789\", \"Cardinal<br>MWh 10000462\", \"Miami Fort<br>MWh 5394008\", \"Avon Lake<br>MWh 1056113\", \"Conesville<br>MWh 4110470\", \"J M Stuart<br>MWh 2064675\", \"FirstEnergy W H Sammis<br>MWh 4736392\", \"Kyger Creek<br>MWh 5792909\", \"Dover<br>MWh 57528\", \"Orrville<br>MWh 14590\", \"Painesville<br>MWh 3046\", \"Muskogee<br>MWh 3806289\", \"Northeastern<br>MWh 2621945\", \"Conemaugh<br>MWh 11423932\", \"Homer City Generating Station<br>MWh 5104344\", \"Keystone<br>MWh 12416272\", \"Brunner Island<br>MWh 1000168\", \"TalenEnergy Montour<br>MWh 2602574\", \"Wateree<br>MWh 3789826\", \"Williams<br>MWh 2945908\", \"Allen<br>MWh 389576\", \"Bull Run<br>MWh 1390394\", \"Cumberland (TN)<br>MWh 10370388\", \"Gallatin (TN)<br>MWh 5127319\", \"Kingston<br>MWh 3041842\", \"W A Parish<br>MWh 14895707\", \"Big Brown<br>MWh 816416\", \"Chesterfield<br>MWh 1879342\", \"Yorktown<br>MWh 362710\", \"Transalta Centralia Generation<br>MWh 5350285\", \"John E Amos<br>MWh 12924819\", \"FirstEnergy Fort Martin Power Station<br>MWh 5995582\", \"FirstEnergy Harrison Power Station<br>MWh 13231653\", \"Mitchell (WV)<br>MWh 5473103\", \"Mt Storm<br>MWh 5513103\", \"Bay Front<br>MWh 795\", \"South Oak Creek<br>MWh 4733151\", \"Edgewater<br>MWh 3279943\", \"Pulliam<br>MWh 463009\", \"Weston<br>MWh 4576936\", \"Manitowoc<br>MWh 18345\", \"Genoa<br>MWh 1679750\", \"Dave Johnston<br>MWh 4793624\", \"Naughton<br>MWh 4731716\", \"John P Madgett<br>MWh 1887860\", \"Navajo<br>MWh 12994358\", \"James H Miller Jr<br>MWh 18000241\", \"FirstEnergy Pleasants Power Station<br>MWh 7000558\", \"White Bluff<br>MWh 8238975\", \"Duck Creek<br>MWh 2423361\", \"Newton<br>MWh 3211021\", \"East Bend<br>MWh 2781366\", \"W H Zimmer<br>MWh 8056161\", \"Craig (CO)<br>MWh 7324632\", \"Coal Creek<br>MWh 9125464\", \"Killen Station<br>MWh 1458240\", \"Belle River<br>MWh 7580516\", \"H L Spurlock<br>MWh 7691212\", \"Wansley<br>MWh 2795602\", \"Big Cajun 2<br>MWh 4006697\", \"R D Morrow<br>MWh 118208\", \"Nearman Creek<br>MWh 968262\", \"Iatan<br>MWh 7793751\", \"Jeffrey Energy Center<br>MWh 9483247\", \"Trimble County<br>MWh 7999441\", \"Victor J Daniel Jr<br>MWh 2330344\", \"Colstrip<br>MWh 12641861\", \"Gerald Gentleman<br>MWh 8834437\", \"Somerset Operating Co LLC<br>MWh 586196\", \"R M Schahfer<br>MWh 6708347\", \"Lewis & Clark<br>MWh 234234\", \"Sherburne County<br>MWh 12462912\", \"FirstEnergy Bruce Mansfield<br>MWh 3040948\", \"Sooner<br>MWh 4432949\", \"Nebraska City<br>MWh 9086063\", \"Big Stone<br>MWh 2339337\", \"Wyodak<br>MWh 2250043\", \"Boardman<br>MWh 1281563\", \"Gibson<br>MWh 17597324\", \"McIntosh<br>MWh 22901\", \"Gibbons Creek<br>MWh 782963\", \"A B Brown<br>MWh 2385978\", \"Flint Creek<br>MWh 2663090\", \"Welsh<br>MWh 5448746\", \"Martin Lake<br>MWh 14040515\", \"Rush Island<br>MWh 7760081\", \"Hunter<br>MWh 8283535\", \"Rockport<br>MWh 11877396\", \"Pleasant Prairie<br>MWh 1767019\", \"Coronado<br>MWh 3591093\", \"Coleto Creek<br>MWh 3846173\", \"Fayette Power Project<br>MWh 10341894\", \"Oak Grove (TX)<br>MWh 12154845\", \"J T Deely<br>MWh 4594347\", \"San Miguel<br>MWh 2506974\", \"Brame Energy Center<br>MWh 3630837\", \"Harrington<br>MWh 4754028\", \"Tolk<br>MWh 3781210\", \"John Twitty Energy Center<br>MWh 2514723\", \"Laramie River Station<br>MWh 10672938\", \"Merom<br>MWh 5864837\", \"Pawnee<br>MWh 3271189\", \"Winyah<br>MWh 1559185\", \"Mayo<br>MWh 1482603\", \"Ottumwa<br>MWh 3729262\", \"Scherer<br>MWh 15406982\", \"Mountaineer<br>MWh 5689196\", \"Healy<br>MWh 169502\", \"Antelope Valley<br>MWh 6426456\", \"Intermountain Power Project<br>MWh 8481951\", \"R D Green<br>MWh 3048332\", \"Independence Steam Electric Station<br>MWh 9676312\", \"Sandow No 4<br>MWh 106636\", \"Louisa<br>MWh 4860241\", \"Warrick<br>MWh 4312189\", \"Rawhide<br>MWh 1802039\", \"Sikeston Power Station<br>MWh 1795948\", \"Hugo<br>MWh 1638014\", \"D B Wilson<br>MWh 2252288\", \"Major Oak Power<br>MWh 2453003\", \"J K Spruce<br>MWh 7199494\", \"Cope<br>MWh 1482731\", \"Clover<br>MWh 2907274\", \"Polk<br>MWh 728670\", \"George Neal South<br>MWh 3070909\", \"Neil Simpson II<br>MWh 642257\", \"Kapstone<br>MWh 165999\", \"Bonanza<br>MWh 3651856\", \"Pirkey<br>MWh 4577189\", \"Columbia (WI)<br>MWh 6636482\", \"Belews Creek<br>MWh 7978957\", \"Jim Bridger<br>MWh 10957269\", \"Huntington<br>MWh 5083347\", \"Gavin Power, LLC<br>MWh 15976399\", \"Ray D Nixon<br>MWh 1129110\", \"Coyote<br>MWh 3060450\", \"Springerville<br>MWh 9923571\", \"North Valmy<br>MWh 1442546\", \"Cheswick Power Plant<br>MWh 1189140\", \"WestRock-West Point Mill<br>MWh 14840\", \"RED-Rochester, LLC<br>MWh 10943\", \"Logan Generating Company LP<br>MWh 533471\", \"Fernandina Beach Mill<br>MWh 80110\", \"Escanaba Mill<br>MWh 6301\", \"Biron Mill<br>MWh 122656\", \"Consumer Operations LLC<br>MWh 62359\", \"Savannah River Mill<br>MWh 48690\", \"Muskogee Mill<br>MWh 204751\", \"James River Genco LLC<br>MWh 44177\", \"CPI USA NC Southport<br>MWh 48361\", \"CPI USA NC Roxboro<br>MWh 40691\", \"Edgecombe Genco LLC<br>MWh 9082\", \"Inland Paperboard Packaging Rome<br>MWh 41296\", \"Wisconsin Rapids Pulp Mill<br>MWh 53079\", \"Rumford Cogeneration<br>MWh 56284\", \"Amalgamated Sugar Twin Falls<br>MWh 20338\", \"Chambers Cogeneration LP<br>MWh 646080\", \"River Valley<br>MWh 1833890\", \"AES Hawaii<br>MWh 1311203\", \"AES Warrior Run Cogeneration Facility<br>MWh 1141404\", \"Argus Cogen Plant<br>MWh 281328\", \"Rapids Energy Center<br>MWh 34514\", \"Georgia-Pacific Consr Prods LP-Naheola<br>MWh 43776\", \"Silver Bay Power<br>MWh 350326\", \"Archer Daniels Midland Clinton<br>MWh 738591\", \"Archer Daniels Midland Des Moines<br>MWh 26492\", \"Archer Daniels Midland Lincoln<br>MWh 29535\", \"Archer Daniels Midland Mankato<br>MWh 22110\", \"Archer Daniels Midland Cedar Rapids<br>MWh 731764\", \"Archer Daniels Midland Decatur<br>MWh 1326779\", \"Tate & Lyle Decatur Plant Cogen<br>MWh 208210\", \"University of Northern Iowa<br>MWh 4598\", \"Imperial Savannah LP<br>MWh 8133\", \"Nippon Dynawave Packaging Longview WA<br>MWh 23601\", \"Purdue University<br>MWh 29483\", \"Canton North Carolina<br>MWh 105934\", \"Verso Paper Quinnesec Mich Mill<br>MWh 100\", \"KapStone Kraft Paper Corp<br>MWh 34310\", \"Luke Mill<br>MWh 59744\", \"Packaging Corp of America<br>MWh 518\", \"Alpena Cement Plant<br>MWh 34711\", \"Utility Plants Section<br>MWh 90177\", \"University of Notre Dame<br>MWh 8420\", \"Eielson AFB Central Heat & Power Plant<br>MWh 67619\", \"Pixelle Specialty Solutions LLC - Spring Grove Facility<br>MWh 72706\", \"S D Warren Westbrook<br>MWh 14543\", \"Tennessee Eastman Operations<br>MWh 646676\", \"Mosinee Mill<br>MWh 47256\", \"Flambeau River Papers<br>MWh 3123\", \"University of Alaska Fairbanks<br>MWh 35858\", \"Florence Mill<br>MWh 12769\", \"WestRock Panama City Mill<br>MWh 17546\", \"Hopewell Mill<br>MWh 5307\", \"TES Filer City Station<br>MWh 426929\", \"Covington Facility<br>MWh 162110\", \"Rhinelander Mill<br>MWh 19817\", \"MU Combined Heat and Power Plant<br>MWh 10123\", \"Indiantown Cogeneration LP<br>MWh 6666\", \"Mecklenburg Power Station<br>MWh 57227\", \"Sandow No 5<br>MWh 141443\", \"Spruance Genco LLC<br>MWh 38985\", \"International Paper Georgetown Mill<br>MWh 1228\", \"Kaukauna Paper Mill<br>MWh 80596\", \"Georgia-Pacific Cedar Springs<br>MWh 95196\", \"Ashdown<br>MWh 45505\", \"Iowa State University<br>MWh 56656\", \"Univ of NC Chapel Hill Cogen Facility<br>MWh 38679\", \"Birchwood Power<br>MWh 541836\", \"General Chemical<br>MWh 177120\", \"Graphic Packaging International Augusta Mill<br>MWh 4235\", \"Southern Minnesota Beet Sugar<br>MWh 14619\", \"Ingredion Incorporated<br>MWh 213409\", \"Ingredion Winston Salem<br>MWh 1351\", \"International Paper Pine Hill Mill<br>MWh 76\", \"University of Iowa Main Power Plant<br>MWh 13207\", \"University of Illinois Abbott Power Plt<br>MWh 22539\", \"Neenah Paper Munising Mill<br>MWh 32227\", \"Red Hills Generating Facility<br>MWh 2831491\", \"Wygen 1<br>MWh 638162\", \"Hardin Generator Project<br>MWh 146460\", \"Prairie State Generating Station<br>MWh 11512875\", \"Elm Road Generating Station<br>MWh 7890205\", \"TS Power Plant<br>MWh 1042500\", \"Wygen 2<br>MWh 768461\", \"Plum Point Energy Station<br>MWh 5196709\", \"John W Turk Jr Power Plant<br>MWh 4175510\", \"Wygen III<br>MWh 850379\", \"Dry Fork Station<br>MWh 2974851\", \"Sandy Creek Energy Station<br>MWh 6469237\", \"Longview Power Plant<br>MWh 5208252\", \"Virginia Tech Power Plant<br>MWh 6235\", \"Spiritwood Station<br>MWh 184710\", \"Virginia City Hybrid Energy Center<br>MWh 2736100\", \"Archer Daniels Midland Columbus<br>MWh 322939\", \"Sidney MT Plant<br>MWh 5346\", \"Genesis Alkali<br>MWh 222466\", \"Sonoco Products Co<br>MWh 2055\", \"SIUC<br>MWh 8696\", \"Western Sugar Coop - Scottsbluff<br>MWh 21368\", \"Wausau Paper Middletown<br>MWh 5971\", \"MSC Sebewaing<br>MWh 103\", \"Roquette America<br>MWh 12440\", \"Southeast Steam Plant<br>MWh 3\", \"Western Sugar Coop- Ft Morgan<br>MWh 11939\", \"Western Sugar Cooperative - Billings<br>MWh 4882\", null], \"type\": \"scattergeo\"}],\n",
              "                        {\"geo\": {\"landcolor\": \"lightgreen\", \"scope\": \"usa\"}, \"showlegend\": true, \"template\": {\"data\": {\"bar\": [{\"error_x\": {\"color\": \"#2a3f5f\"}, \"error_y\": {\"color\": \"#2a3f5f\"}, \"marker\": {\"line\": {\"color\": \"#E5ECF6\", \"width\": 0.5}}, \"type\": \"bar\"}], \"barpolar\": [{\"marker\": {\"line\": {\"color\": \"#E5ECF6\", \"width\": 0.5}}, \"type\": \"barpolar\"}], \"carpet\": [{\"aaxis\": {\"endlinecolor\": \"#2a3f5f\", \"gridcolor\": \"white\", \"linecolor\": \"white\", \"minorgridcolor\": \"white\", \"startlinecolor\": \"#2a3f5f\"}, \"baxis\": {\"endlinecolor\": \"#2a3f5f\", \"gridcolor\": \"white\", \"linecolor\": \"white\", \"minorgridcolor\": \"white\", \"startlinecolor\": \"#2a3f5f\"}, \"type\": \"carpet\"}], \"choropleth\": [{\"colorbar\": {\"outlinewidth\": 0, \"ticks\": \"\"}, \"type\": \"choropleth\"}], \"contour\": [{\"colorbar\": {\"outlinewidth\": 0, \"ticks\": \"\"}, \"colorscale\": [[0.0, \"#0d0887\"], [0.1111111111111111, \"#46039f\"], [0.2222222222222222, \"#7201a8\"], [0.3333333333333333, \"#9c179e\"], [0.4444444444444444, \"#bd3786\"], [0.5555555555555556, \"#d8576b\"], [0.6666666666666666, \"#ed7953\"], [0.7777777777777778, \"#fb9f3a\"], [0.8888888888888888, \"#fdca26\"], [1.0, \"#f0f921\"]], \"type\": \"contour\"}], \"contourcarpet\": [{\"colorbar\": {\"outlinewidth\": 0, \"ticks\": \"\"}, \"type\": \"contourcarpet\"}], \"heatmap\": [{\"colorbar\": {\"outlinewidth\": 0, \"ticks\": \"\"}, \"colorscale\": [[0.0, \"#0d0887\"], [0.1111111111111111, \"#46039f\"], [0.2222222222222222, \"#7201a8\"], [0.3333333333333333, \"#9c179e\"], [0.4444444444444444, \"#bd3786\"], [0.5555555555555556, \"#d8576b\"], [0.6666666666666666, \"#ed7953\"], [0.7777777777777778, \"#fb9f3a\"], [0.8888888888888888, \"#fdca26\"], [1.0, \"#f0f921\"]], \"type\": \"heatmap\"}], \"heatmapgl\": [{\"colorbar\": {\"outlinewidth\": 0, \"ticks\": \"\"}, \"colorscale\": [[0.0, \"#0d0887\"], [0.1111111111111111, \"#46039f\"], [0.2222222222222222, \"#7201a8\"], [0.3333333333333333, \"#9c179e\"], [0.4444444444444444, \"#bd3786\"], [0.5555555555555556, \"#d8576b\"], [0.6666666666666666, \"#ed7953\"], [0.7777777777777778, \"#fb9f3a\"], [0.8888888888888888, \"#fdca26\"], [1.0, \"#f0f921\"]], \"type\": \"heatmapgl\"}], \"histogram\": [{\"marker\": {\"colorbar\": {\"outlinewidth\": 0, \"ticks\": \"\"}}, \"type\": \"histogram\"}], \"histogram2d\": [{\"colorbar\": {\"outlinewidth\": 0, \"ticks\": \"\"}, \"colorscale\": [[0.0, \"#0d0887\"], [0.1111111111111111, \"#46039f\"], [0.2222222222222222, \"#7201a8\"], [0.3333333333333333, \"#9c179e\"], [0.4444444444444444, \"#bd3786\"], [0.5555555555555556, \"#d8576b\"], [0.6666666666666666, \"#ed7953\"], [0.7777777777777778, \"#fb9f3a\"], [0.8888888888888888, \"#fdca26\"], [1.0, \"#f0f921\"]], \"type\": \"histogram2d\"}], \"histogram2dcontour\": [{\"colorbar\": {\"outlinewidth\": 0, \"ticks\": \"\"}, \"colorscale\": [[0.0, \"#0d0887\"], [0.1111111111111111, \"#46039f\"], [0.2222222222222222, \"#7201a8\"], [0.3333333333333333, \"#9c179e\"], [0.4444444444444444, \"#bd3786\"], [0.5555555555555556, \"#d8576b\"], [0.6666666666666666, \"#ed7953\"], [0.7777777777777778, \"#fb9f3a\"], [0.8888888888888888, \"#fdca26\"], [1.0, \"#f0f921\"]], \"type\": \"histogram2dcontour\"}], \"mesh3d\": [{\"colorbar\": {\"outlinewidth\": 0, \"ticks\": \"\"}, \"type\": \"mesh3d\"}], \"parcoords\": [{\"line\": {\"colorbar\": {\"outlinewidth\": 0, \"ticks\": \"\"}}, \"type\": \"parcoords\"}], \"scatter\": [{\"marker\": {\"colorbar\": {\"outlinewidth\": 0, \"ticks\": \"\"}}, \"type\": \"scatter\"}], \"scatter3d\": [{\"line\": {\"colorbar\": {\"outlinewidth\": 0, \"ticks\": \"\"}}, \"marker\": {\"colorbar\": {\"outlinewidth\": 0, \"ticks\": \"\"}}, \"type\": \"scatter3d\"}], \"scattercarpet\": [{\"marker\": {\"colorbar\": {\"outlinewidth\": 0, \"ticks\": \"\"}}, \"type\": \"scattercarpet\"}], \"scattergeo\": [{\"marker\": {\"colorbar\": {\"outlinewidth\": 0, \"ticks\": \"\"}}, \"type\": \"scattergeo\"}], \"scattergl\": [{\"marker\": {\"colorbar\": {\"outlinewidth\": 0, \"ticks\": \"\"}}, \"type\": \"scattergl\"}], \"scattermapbox\": [{\"marker\": {\"colorbar\": {\"outlinewidth\": 0, \"ticks\": \"\"}}, \"type\": \"scattermapbox\"}], \"scatterpolar\": [{\"marker\": {\"colorbar\": {\"outlinewidth\": 0, \"ticks\": \"\"}}, \"type\": \"scatterpolar\"}], \"scatterpolargl\": [{\"marker\": {\"colorbar\": {\"outlinewidth\": 0, \"ticks\": \"\"}}, \"type\": \"scatterpolargl\"}], \"scatterternary\": [{\"marker\": {\"colorbar\": {\"outlinewidth\": 0, \"ticks\": \"\"}}, \"type\": \"scatterternary\"}], \"surface\": [{\"colorbar\": {\"outlinewidth\": 0, \"ticks\": \"\"}, \"colorscale\": [[0.0, \"#0d0887\"], [0.1111111111111111, \"#46039f\"], [0.2222222222222222, \"#7201a8\"], [0.3333333333333333, \"#9c179e\"], [0.4444444444444444, \"#bd3786\"], [0.5555555555555556, \"#d8576b\"], [0.6666666666666666, \"#ed7953\"], [0.7777777777777778, \"#fb9f3a\"], [0.8888888888888888, \"#fdca26\"], [1.0, \"#f0f921\"]], \"type\": \"surface\"}], \"table\": [{\"cells\": {\"fill\": {\"color\": \"#EBF0F8\"}, \"line\": {\"color\": \"white\"}}, \"header\": {\"fill\": {\"color\": \"#C8D4E3\"}, \"line\": {\"color\": \"white\"}}, \"type\": \"table\"}]}, \"layout\": {\"annotationdefaults\": {\"arrowcolor\": \"#2a3f5f\", \"arrowhead\": 0, \"arrowwidth\": 1}, \"colorscale\": {\"diverging\": [[0, \"#8e0152\"], [0.1, \"#c51b7d\"], [0.2, \"#de77ae\"], [0.3, \"#f1b6da\"], [0.4, \"#fde0ef\"], [0.5, \"#f7f7f7\"], [0.6, \"#e6f5d0\"], [0.7, \"#b8e186\"], [0.8, \"#7fbc41\"], [0.9, \"#4d9221\"], [1, \"#276419\"]], \"sequential\": [[0.0, \"#0d0887\"], [0.1111111111111111, \"#46039f\"], [0.2222222222222222, \"#7201a8\"], [0.3333333333333333, \"#9c179e\"], [0.4444444444444444, \"#bd3786\"], [0.5555555555555556, \"#d8576b\"], [0.6666666666666666, \"#ed7953\"], [0.7777777777777778, \"#fb9f3a\"], [0.8888888888888888, \"#fdca26\"], [1.0, \"#f0f921\"]], \"sequentialminus\": [[0.0, \"#0d0887\"], [0.1111111111111111, \"#46039f\"], [0.2222222222222222, \"#7201a8\"], [0.3333333333333333, \"#9c179e\"], [0.4444444444444444, \"#bd3786\"], [0.5555555555555556, \"#d8576b\"], [0.6666666666666666, \"#ed7953\"], [0.7777777777777778, \"#fb9f3a\"], [0.8888888888888888, \"#fdca26\"], [1.0, \"#f0f921\"]]}, \"colorway\": [\"#636efa\", \"#EF553B\", \"#00cc96\", \"#ab63fa\", \"#FFA15A\", \"#19d3f3\", \"#FF6692\", \"#B6E880\", \"#FF97FF\", \"#FECB52\"], \"font\": {\"color\": \"#2a3f5f\"}, \"geo\": {\"bgcolor\": \"white\", \"lakecolor\": \"white\", \"landcolor\": \"#E5ECF6\", \"showlakes\": true, \"showland\": true, \"subunitcolor\": \"white\"}, \"hoverlabel\": {\"align\": \"left\"}, \"hovermode\": \"closest\", \"mapbox\": {\"style\": \"light\"}, \"paper_bgcolor\": \"white\", \"plot_bgcolor\": \"#E5ECF6\", \"polar\": {\"angularaxis\": {\"gridcolor\": \"white\", \"linecolor\": \"white\", \"ticks\": \"\"}, \"bgcolor\": \"#E5ECF6\", \"radialaxis\": {\"gridcolor\": \"white\", \"linecolor\": \"white\", \"ticks\": \"\"}}, \"scene\": {\"xaxis\": {\"backgroundcolor\": \"#E5ECF6\", \"gridcolor\": \"white\", \"gridwidth\": 2, \"linecolor\": \"white\", \"showbackground\": true, \"ticks\": \"\", \"zerolinecolor\": \"white\"}, \"yaxis\": {\"backgroundcolor\": \"#E5ECF6\", \"gridcolor\": \"white\", \"gridwidth\": 2, \"linecolor\": \"white\", \"showbackground\": true, \"ticks\": \"\", \"zerolinecolor\": \"white\"}, \"zaxis\": {\"backgroundcolor\": \"#E5ECF6\", \"gridcolor\": \"white\", \"gridwidth\": 2, \"linecolor\": \"white\", \"showbackground\": true, \"ticks\": \"\", \"zerolinecolor\": \"white\"}}, \"shapedefaults\": {\"line\": {\"color\": \"#2a3f5f\"}}, \"ternary\": {\"aaxis\": {\"gridcolor\": \"white\", \"linecolor\": \"white\", \"ticks\": \"\"}, \"baxis\": {\"gridcolor\": \"white\", \"linecolor\": \"white\", \"ticks\": \"\"}, \"bgcolor\": \"#E5ECF6\", \"caxis\": {\"gridcolor\": \"white\", \"linecolor\": \"white\", \"ticks\": \"\"}}, \"title\": {\"x\": 0.05}, \"xaxis\": {\"automargin\": true, \"gridcolor\": \"white\", \"linecolor\": \"white\", \"ticks\": \"\", \"zerolinecolor\": \"white\", \"zerolinewidth\": 2}, \"yaxis\": {\"automargin\": true, \"gridcolor\": \"white\", \"linecolor\": \"white\", \"ticks\": \"\", \"zerolinecolor\": \"white\", \"zerolinewidth\": 2}}}, \"title\": {\"text\": \"Coal Plants Spewing Pollution in U.S. - 2018 - Scaled by MWh\"}},\n",
              "                        {\"responsive\": true}\n",
              "                    ).then(function(){\n",
              "                            \n",
              "var gd = document.getElementById('81600bd2-f18c-4889-9b5e-19329e45622c');\n",
              "var x = new MutationObserver(function (mutations, observer) {{\n",
              "        var display = window.getComputedStyle(gd).display;\n",
              "        if (!display || display === 'none') {{\n",
              "            console.log([gd, 'removed!']);\n",
              "            Plotly.purge(gd);\n",
              "            observer.disconnect();\n",
              "        }}\n",
              "}});\n",
              "\n",
              "// Listen for the removal of the full notebook cells\n",
              "var notebookContainer = gd.closest('#notebook-container');\n",
              "if (notebookContainer) {{\n",
              "    x.observe(notebookContainer, {childList: true});\n",
              "}}\n",
              "\n",
              "// Listen for the clearing of the current output cell\n",
              "var outputEl = gd.closest('.output');\n",
              "if (outputEl) {{\n",
              "    x.observe(outputEl, {childList: true});\n",
              "}}\n",
              "\n",
              "                        })\n",
              "                };\n",
              "                \n",
              "            </script>\n",
              "        </div>\n",
              "</body>\n",
              "</html>"
            ]
          },
          "metadata": {
            "tags": []
          }
        }
      ]
    },
    {
      "cell_type": "markdown",
      "metadata": {
        "id": "yrrn0QWxaWoj",
        "colab_type": "text"
      },
      "source": [
        "![Chart Screenshot](https://raw.githubusercontent.com/gptix/data-visualization/master/Coal_Plants_US_2018.png)"
      ]
    }
  ]
}