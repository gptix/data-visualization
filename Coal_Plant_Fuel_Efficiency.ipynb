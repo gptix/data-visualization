{
  "nbformat": 4,
  "nbformat_minor": 0,
  "metadata": {
    "colab": {
      "name": "Coal Plant Fuel Efficiency.ipynb",
      "provenance": [],
      "collapsed_sections": [],
      "include_colab_link": true
    },
    "kernelspec": {
      "name": "python3",
      "display_name": "Python 3"
    }
  },
  "cells": [
    {
      "cell_type": "markdown",
      "metadata": {
        "id": "view-in-github",
        "colab_type": "text"
      },
      "source": [
        "<a href=\"https://colab.research.google.com/github/gptix/data-visualization/blob/master/Coal_Plant_Fuel_Efficiency.ipynb\" target=\"_parent\"><img src=\"https://colab.research.google.com/assets/colab-badge.svg\" alt=\"Open In Colab\"/></a>"
      ]
    },
    {
      "cell_type": "markdown",
      "metadata": {
        "id": "d-Phg4QIVamq",
        "colab_type": "text"
      },
      "source": [
        "# Visualization of efficiency (MWh per ton of fuel) by power (MWh) in the United States in 2018.\n",
        "\n",
        "*Last run from scratch, successfully, at 13:27 EST, 22 Nov 2019*\n",
        "\n",
        "## Data Sources\n",
        "\n",
        "U.S. Energy Information Administration\n",
        "\n",
        "https://www.eia.gov/\n",
        "\n",
        "\n",
        "\n",
        "**Form EIA-923**\n",
        "\n",
        "\"The survey Form EIA-923 collects detailed electric power data -- monthly and annually -- on electricity generation, fuel consumption, fossil fuel stocks, and receipts at the power plant and prime mover level.\"\n",
        "\n",
        "https://www.eia.gov/electricity/data/eia923/\n",
        "\n",
        "## Software\n",
        "\n",
        "Data Manipulation: Pandas\n",
        "\n",
        "Vizualization: Seaborn\n",
        "\n",
        "Notebook Creation and coding: Google Colab"
      ]
    },
    {
      "cell_type": "markdown",
      "metadata": {
        "id": "9RT7OQ1fpJY_",
        "colab_type": "text"
      },
      "source": [
        "## Import great code."
      ]
    },
    {
      "cell_type": "code",
      "metadata": {
        "id": "1Kzu2gDrpHx9",
        "colab_type": "code",
        "colab": {}
      },
      "source": [
        "# Import libraries probably needed.\n",
        "%matplotlib inline\n",
        "import matplotlib.pyplot as plt\n",
        "import numpy as np\n",
        "from numpy import array\n",
        "from numpy import linalg as la\n",
        "\n",
        "import seaborn as sns\n",
        "\n",
        "from urllib.request import urlopen\n",
        "from zipfile import ZipFile\n",
        "from io import BytesIO\n",
        "import os.path\n",
        "\n",
        "import pandas as pd\n",
        "\n",
        "from sklearn.preprocessing import StandardScaler\n",
        "from sklearn.decomposition import PCA\n",
        "from sklearn.cluster import KMeans\n",
        "\n",
        "from functools import reduce\n",
        "from math import sqrt\n",
        "\n",
        "import random\n",
        "from statistics import mean, stdev\n",
        "\n",
        "import plotly.graph_objects as go"
      ],
      "execution_count": 0,
      "outputs": []
    },
    {
      "cell_type": "markdown",
      "metadata": {
        "id": "cZ9jBaXJnQN5",
        "colab_type": "text"
      },
      "source": [
        "## Ingest raw data."
      ]
    },
    {
      "cell_type": "code",
      "metadata": {
        "id": "kV0kRmm2lvUO",
        "colab_type": "code",
        "colab": {}
      },
      "source": [
        "url_base = \"https://raw.githubusercontent.com/gptix/data-visualization/master/\"\n",
        "\n",
        "# set filenames\n",
        "# Detailed data, including fuel type and annual production.\n",
        "detail_filename = \"EIA923_Schedules_2_3_4_5_M_12_2018_Final_Revision.csv\"\n",
        "\n",
        "# Plant data, including latitude and longitude.\n",
        "plants_filename = \"2___Plant_Y2018.csv\"\n",
        "\n",
        "detail_df = pd.read_csv(url_base + detail_filename)\n",
        "plants_df = pd.read_csv(url_base + plants_filename, skiprows=1)\n",
        "\n",
        "# detail_df.head(1)"
      ],
      "execution_count": 0,
      "outputs": []
    },
    {
      "cell_type": "markdown",
      "metadata": {
        "id": "8aMtFXXLnYRG",
        "colab_type": "text"
      },
      "source": [
        "## Shape data, including removing or altering \"NaNs\""
      ]
    },
    {
      "cell_type": "code",
      "metadata": {
        "id": "KYvvgQ54LF5b",
        "colab_type": "code",
        "colab": {}
      },
      "source": [
        "# extract needed data\n",
        "# filter for rows related to use of coal as fuel.\n",
        "fuel_type = 'COL'\n",
        "detail_df = detail_df[detail_df.AER_Fuel_Type_Code.isin([fuel_type])]\n",
        "# detail_df.shape\n",
        "\n",
        "# Re-shape detail_df to contain only columns needed.\n",
        "detail_columns = detail_df.columns\n",
        "detail_columns_needed = ['Plant_Id', 'Reported_Prime_Mover', 'AER_Fuel_Type_Code', \n",
        "                         'Total_Fuel_Consumption_Quantity', \n",
        "                         'Total_Fuel_Consumption_MMBtu', \n",
        "                         'Net_Generation_(Megawatthours)']\n",
        "detail_columns_to_drop = list(set(detail_columns) - set(detail_columns_needed))\n",
        "detail_df = detail_df.drop(columns=detail_columns_to_drop)\n",
        "\n",
        "# detail_df.columns\n",
        "# detail_df.head(1)"
      ],
      "execution_count": 0,
      "outputs": []
    },
    {
      "cell_type": "code",
      "metadata": {
        "id": "bmh1XiO2OBG5",
        "colab_type": "code",
        "colab": {}
      },
      "source": [
        ""
      ],
      "execution_count": 0,
      "outputs": []
    },
    {
      "cell_type": "code",
      "metadata": {
        "id": "bA3ap-l9N_mi",
        "colab_type": "code",
        "outputId": "a4fd284a-6953-4651-c39b-266d2377741c",
        "colab": {
          "base_uri": "https://localhost:8080/",
          "height": 464
        }
      },
      "source": [
        "# create df that summarizes fuel use and power generation by Plant.\n",
        "detail_summed_df = detail_df.groupby('Plant_Id').sum()\n",
        "detail_summed_df.head(2)\n",
        "detail_summed_df.Total_Fuel_Consumption_MMBtu\n",
        "detail_summed_df.columns\n",
        "\n",
        "# remove zero (or very small) rows (power output)\n",
        "detail_summed_nonzero_df = detail_summed_df[detail_summed_df['Net_Generation_(Megawatthours)'] > 0.1]\n",
        "\n",
        "# Copy df for exploration\n",
        "dft = detail_summed_nonzero_df\n",
        "\n",
        "# flatten\n",
        "dft.reset_index(inplace=True)\n",
        "\n",
        "# calculate efficiency metric\n",
        "dft['MWh_per_ton'] = dft['Net_Generation_(Megawatthours)']/dft['Total_Fuel_Consumption_Quantity']\n",
        "\n",
        "sns.scatterplot(dft['Net_Generation_(Megawatthours)'], dft['MWh_per_ton'])"
      ],
      "execution_count": 16,
      "outputs": [
        {
          "output_type": "stream",
          "text": [
            "/usr/local/lib/python3.6/dist-packages/ipykernel_launcher.py:16: SettingWithCopyWarning:\n",
            "\n",
            "\n",
            "A value is trying to be set on a copy of a slice from a DataFrame.\n",
            "Try using .loc[row_indexer,col_indexer] = value instead\n",
            "\n",
            "See the caveats in the documentation: http://pandas.pydata.org/pandas-docs/stable/user_guide/indexing.html#returning-a-view-versus-a-copy\n",
            "\n"
          ],
          "name": "stderr"
        },
        {
          "output_type": "execute_result",
          "data": {
            "text/plain": [
              "<matplotlib.axes._subplots.AxesSubplot at 0x7f5d7c40cfd0>"
            ]
          },
          "metadata": {
            "tags": []
          },
          "execution_count": 16
        },
        {
          "output_type": "display_data",
          "data": {
            "image/png": "[encoded data removed]",
            "text/plain": [
              "<Figure size 432x288 with 1 Axes>"
            ]
          },
          "metadata": {
            "tags": []
          }
        }
      ]
    },
    {
      "cell_type": "markdown",
      "metadata": {
        "id": "GnUBoBDsXn9D",
        "colab_type": "text"
      },
      "source": [
        "Inefficient power plants are smaller in scale. \n",
        "\n",
        "Assuming that health effects depend on amount of coal burned, replacement of plants should commence with smaller plants."
      ]
    }
  ]
}