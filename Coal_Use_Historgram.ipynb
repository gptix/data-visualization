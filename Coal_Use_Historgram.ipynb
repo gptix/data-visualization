{
  "nbformat": 4,
  "nbformat_minor": 0,
  "metadata": {
    "colab": {
      "name": "Copy of Coal Use Historgram.ipynb",
      "provenance": [],
      "collapsed_sections": [],
      "include_colab_link": true
    },
    "kernelspec": {
      "name": "python3",
      "display_name": "Python 3"
    }
  },
  "cells": [
    {
      "cell_type": "markdown",
      "metadata": {
        "id": "view-in-github",
        "colab_type": "text"
      },
      "source": [
        "<a href=\"https://colab.research.google.com/github/gptix/data-visualization/blob/master/Coal_Use_Historgram.ipynb\" target=\"_parent\"><img src=\"https://colab.research.google.com/assets/colab-badge.svg\" alt=\"Open In Colab\"/></a>"
      ]
    },
    {
      "cell_type": "markdown",
      "metadata": {
        "id": "d-Phg4QIVamq",
        "colab_type": "text"
      },
      "source": [
        "# Visualization of distribution of coal consumption per plant to generate power in the United States in 2018.\n",
        "\n",
        "*Last run from scratch, successfully, at  13:36 est, 22 Nov 2019*\n",
        "\n",
        "## Data Sources\n",
        "\n",
        "U.S. Energy Information Administration\n",
        "\n",
        "https://www.eia.gov/\n",
        "\n",
        "\n",
        "\n",
        "**Form EIA-923**\n",
        "\n",
        "\"The survey Form EIA-923 collects detailed electric power data -- monthly and annually -- on electricity generation, fuel consumption, fossil fuel stocks, and receipts at the power plant and prime mover level.\"\n",
        "\n",
        "https://www.eia.gov/electricity/data/eia923/\n",
        "\n",
        "\n",
        "## Software\n",
        "\n",
        "Data Manipulation: Pandas\n",
        "\n",
        "Vizualization: Plotly\n",
        "\n",
        "Notebook Creation and coding: Google Colab"
      ]
    },
    {
      "cell_type": "markdown",
      "metadata": {
        "id": "9RT7OQ1fpJY_",
        "colab_type": "text"
      },
      "source": [
        "## Import great code."
      ]
    },
    {
      "cell_type": "code",
      "metadata": {
        "id": "1Kzu2gDrpHx9",
        "colab_type": "code",
        "colab": {}
      },
      "source": [
        "import pandas as pd\n",
        "from matplotlib import pyplot as plt\n",
        "import seaborn as sns"
      ],
      "execution_count": 0,
      "outputs": []
    },
    {
      "cell_type": "markdown",
      "metadata": {
        "id": "cZ9jBaXJnQN5",
        "colab_type": "text"
      },
      "source": [
        "## Ingest raw data."
      ]
    },
    {
      "cell_type": "code",
      "metadata": {
        "id": "kV0kRmm2lvUO",
        "colab_type": "code",
        "colab": {}
      },
      "source": [
        "url_base = \"https://raw.githubusercontent.com/gptix/data-visualization/master/\"\n",
        "\n",
        "# set filenames\n",
        "# Detailed data, including fuel type and annual production.\n",
        "detail_filename = \"EIA923_Schedules_2_3_4_5_M_12_2018_Final_Revision.csv\"\n",
        "\n",
        "# Plant data, including latitude and longitude.\n",
        "plants_filename = \"2___Plant_Y2018.csv\"\n",
        "\n",
        "detail_df = pd.read_csv(url_base + detail_filename)\n",
        "plants_df = pd.read_csv(url_base + plants_filename, skiprows=1)\n",
        "\n",
        "# detail_df.head(1)"
      ],
      "execution_count": 0,
      "outputs": []
    },
    {
      "cell_type": "code",
      "metadata": {
        "id": "XGDI4CF6gOhz",
        "colab_type": "code",
        "colab": {}
      },
      "source": [
        "# detail_df.columns"
      ],
      "execution_count": 0,
      "outputs": []
    },
    {
      "cell_type": "markdown",
      "metadata": {
        "id": "8aMtFXXLnYRG",
        "colab_type": "text"
      },
      "source": [
        "## Shape data, including removing or altering \"NaNs\""
      ]
    },
    {
      "cell_type": "code",
      "metadata": {
        "id": "KYvvgQ54LF5b",
        "colab_type": "code",
        "outputId": "dc8aadda-cbdc-4ba9-ed40-feb6076ebc3d",
        "colab": {
          "base_uri": "https://localhost:8080/",
          "height": 78
        }
      },
      "source": [
        "# extract needed data\n",
        "# filter for rows related to use of coal as fuel.\n",
        "fuel_type = 'COL'\n",
        "detail_df = detail_df[detail_df.AER_Fuel_Type_Code.isin([fuel_type])]\n",
        "# detail_df.shape\n",
        "\n",
        "# Re-shape detail_df to contain only columns needed.\n",
        "detail_columns = detail_df.columns\n",
        "detail_columns_needed = ['Plant_Id', 'Total_Fuel_Consumption_Quantity',\n",
        "                         'Net_Generation_(Megawatthours)']\n",
        "\n",
        "detail_columns_to_drop = list(set(detail_columns) - set(detail_columns_needed))\n",
        "detail_df = detail_df.drop(columns=detail_columns_to_drop)\n",
        "\n",
        "detail_df.columns\n",
        "detail_df.head(1)"
      ],
      "execution_count": 0,
      "outputs": [
        {
          "output_type": "execute_result",
          "data": {
            "text/html": [
              "<div>\n",
              "<style scoped>\n",
              "    .dataframe tbody tr th:only-of-type {\n",
              "        vertical-align: middle;\n",
              "    }\n",
              "\n",
              "    .dataframe tbody tr th {\n",
              "        vertical-align: top;\n",
              "    }\n",
              "\n",
              "    .dataframe thead th {\n",
              "        text-align: right;\n",
              "    }\n",
              "</style>\n",
              "<table border=\"1\" class=\"dataframe\">\n",
              "  <thead>\n",
              "    <tr style=\"text-align: right;\">\n",
              "      <th></th>\n",
              "      <th>Plant_Id</th>\n",
              "      <th>Total_Fuel_Consumption_Quantity</th>\n",
              "      <th>Net_Generation_(Megawatthours)</th>\n",
              "    </tr>\n",
              "  </thead>\n",
              "  <tbody>\n",
              "    <tr>\n",
              "      <th>3</th>\n",
              "      <td>3</td>\n",
              "      <td>0</td>\n",
              "      <td>0</td>\n",
              "    </tr>\n",
              "  </tbody>\n",
              "</table>\n",
              "</div>"
            ],
            "text/plain": [
              "   Plant_Id  Total_Fuel_Consumption_Quantity  Net_Generation_(Megawatthours)\n",
              "3         3                                0                               0"
            ]
          },
          "metadata": {
            "tags": []
          },
          "execution_count": 7
        }
      ]
    },
    {
      "cell_type": "code",
      "metadata": {
        "id": "mXjtaEuXh6dT",
        "colab_type": "code",
        "colab": {}
      },
      "source": [
        "# detail_summed_df['Total_Fuel_Consumption_Quantity'].describe()\n",
        "# detail_summed_df[detail_summed_df['Total_Fuel_Consumption_Quantity'] < 5e7].head(20)"
      ],
      "execution_count": 0,
      "outputs": []
    },
    {
      "cell_type": "code",
      "metadata": {
        "id": "QwCl8oxPg-aN",
        "colab_type": "code",
        "outputId": "d251c92f-5a12-4794-9eaf-e99a40fbb474",
        "colab": {
          "base_uri": "https://localhost:8080/",
          "height": 279
        }
      },
      "source": [
        "df = detail_df[detail_df['Total_Fuel_Consumption_Quantity'] < 1e7]\n",
        "\n",
        "df = df.rename(columns={'Total_Fuel_Consumption_Quantity' : 'Coal as Fuel, Tons'})\n",
        "# df = detail_df[detail_df['Total_Fuel_Consumption_Quantity'] < 5e7]\n",
        "# df.plot()\n",
        "sns.distplot(df['Coal as Fuel, Tons'],kde=False, bins=30);\n",
        "# plt.show()"
      ],
      "execution_count": 0,
      "outputs": [
        {
          "output_type": "display_data",
          "data": {
            "image/png": "[encoded data removed]",
            "text/plain": [
              "<Figure size 432x288 with 1 Axes>"
            ]
          },
          "metadata": {
            "tags": []
          }
        }
      ]
    }
  ]
}